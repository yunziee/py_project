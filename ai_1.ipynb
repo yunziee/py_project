{
 "cells": [
  {
   "cell_type": "markdown",
   "id": "048073d5",
   "metadata": {},
   "source": [
    "### requests"
   ]
  },
  {
   "cell_type": "code",
   "execution_count": 2,
   "id": "3a59ea38",
   "metadata": {},
   "outputs": [
    {
     "name": "stdout",
     "output_type": "stream",
     "text": [
      "Requirement already satisfied: requests in .\\.venv\\lib\\site-packages (2.32.4)\n",
      "Requirement already satisfied: charset_normalizer<4,>=2 in .\\.venv\\lib\\site-packages (from requests) (3.4.2)\n",
      "Requirement already satisfied: idna<4,>=2.5 in .\\.venv\\lib\\site-packages (from requests) (3.10)\n",
      "Requirement already satisfied: urllib3<3,>=1.21.1 in .\\.venv\\lib\\site-packages (from requests) (2.4.0)\n",
      "Requirement already satisfied: certifi>=2017.4.17 in .\\.venv\\lib\\site-packages (from requests) (2025.6.15)\n",
      "Note: you may need to restart the kernel to use updated packages.\n"
     ]
    }
   ],
   "source": [
    "pip install requests"
   ]
  },
  {
   "cell_type": "code",
   "execution_count": 6,
   "id": "3377a165",
   "metadata": {},
   "outputs": [],
   "source": [
    "import requests"
   ]
  },
  {
   "cell_type": "code",
   "execution_count": 7,
   "id": "c6f703b4",
   "metadata": {},
   "outputs": [],
   "source": [
    "url = \"https://jsonplaceholder.typicode.com/posts\""
   ]
  },
  {
   "cell_type": "code",
   "execution_count": 8,
   "id": "b7f14559",
   "metadata": {},
   "outputs": [],
   "source": [
    "response = requests.get(url)"
   ]
  },
  {
   "cell_type": "code",
   "execution_count": 9,
   "id": "1ed8adcf",
   "metadata": {},
   "outputs": [
    {
     "data": {
      "text/plain": [
       "str"
      ]
     },
     "execution_count": 9,
     "metadata": {},
     "output_type": "execute_result"
    }
   ],
   "source": [
    "type(response.text)"
   ]
  },
  {
   "cell_type": "code",
   "execution_count": 10,
   "id": "31f6adc1",
   "metadata": {},
   "outputs": [
    {
     "name": "stdout",
     "output_type": "stream",
     "text": [
      "200\n"
     ]
    }
   ],
   "source": [
    "print(response.status_code)"
   ]
  },
  {
   "cell_type": "code",
   "execution_count": 11,
   "id": "ddabdede",
   "metadata": {},
   "outputs": [
    {
     "name": "stdout",
     "output_type": "stream",
     "text": [
      "응답 성공!\n",
      "[\n",
      "  {\n",
      "    \"userId\": 1,\n",
      "    \"id\": 1,\n",
      "    \"title\": \"sunt aut facere repellat provident occaecati excepturi optio reprehenderit\",\n",
      "    \"body\": \"quia et suscipit\\nsuscipit recusandae consequuntur expedita et cum\\nreprehenderit molestiae ut ut quas totam\\nnostrum rerum est autem sunt rem eveniet architecto\"\n",
      "  },\n",
      "  {\n",
      "    \"userId\": 1,\n",
      "    \"id\": 2,\n",
      "    \"title\": \"qui est esse\",\n",
      "    \"body\": \"est rerum tempor\n"
     ]
    }
   ],
   "source": [
    "if response.status_code == 200:\n",
    "    print('응답 성공!')\n",
    "    print(response.text[:400])\n",
    "else:\n",
    "    printf(f'오류 발생: {response.status_code}')"
   ]
  },
  {
   "cell_type": "code",
   "execution_count": 12,
   "id": "d3853738",
   "metadata": {},
   "outputs": [],
   "source": [
    "data_obj = response.json()"
   ]
  },
  {
   "cell_type": "code",
   "execution_count": 13,
   "id": "044d8564",
   "metadata": {},
   "outputs": [
    {
     "data": {
      "text/plain": [
       "list"
      ]
     },
     "execution_count": 13,
     "metadata": {},
     "output_type": "execute_result"
    }
   ],
   "source": [
    "type(data_obj)"
   ]
  },
  {
   "cell_type": "code",
   "execution_count": null,
   "id": "90ca1ee0",
   "metadata": {},
   "outputs": [],
   "source": []
  },
  {
   "cell_type": "code",
   "execution_count": null,
   "id": "afdff0a9",
   "metadata": {},
   "outputs": [],
   "source": []
  },
  {
   "cell_type": "code",
   "execution_count": null,
   "id": "815a3be5",
   "metadata": {},
   "outputs": [
    {
     "name": "stdout",
     "output_type": "stream",
     "text": [
      "Requirement already satisfied: beautifulsoup4 in .\\.venv\\lib\\site-packages (4.13.4)\n",
      "Requirement already satisfied: soupsieve>1.2 in .\\.venv\\lib\\site-packages (from beautifulsoup4) (2.7)\n",
      "Requirement already satisfied: typing-extensions>=4.0.0 in .\\.venv\\lib\\site-packages (from beautifulsoup4) (4.14.0)\n",
      "Note: you may need to restart the kernel to use updated packages.\n"
     ]
    }
   ],
   "source": [
    "pip install beautifulsoup4\n",
    "# html css 구조 확실하게 이해해야 제대로 사용할 수 있음"
   ]
  },
  {
   "cell_type": "code",
   "execution_count": null,
   "id": "3fca52e2",
   "metadata": {},
   "outputs": [],
   "source": [
    "from bs4 import BeautifulSoup4"
   ]
  },
  {
   "cell_type": "code",
   "execution_count": 15,
   "id": "23acc361",
   "metadata": {},
   "outputs": [
    {
     "name": "stdout",
     "output_type": "stream",
     "text": [
      "Collecting selenium\n",
      "  Downloading selenium-4.33.0-py3-none-any.whl.metadata (7.5 kB)\n",
      "Requirement already satisfied: urllib3~=2.4.0 in .\\.venv\\lib\\site-packages (from urllib3[socks]~=2.4.0->selenium) (2.4.0)\n",
      "Collecting trio~=0.30.0 (from selenium)\n",
      "  Downloading trio-0.30.0-py3-none-any.whl.metadata (8.5 kB)\n",
      "Collecting trio-websocket~=0.12.2 (from selenium)\n",
      "  Downloading trio_websocket-0.12.2-py3-none-any.whl.metadata (5.1 kB)\n",
      "Requirement already satisfied: certifi>=2025.4.26 in .\\.venv\\lib\\site-packages (from selenium) (2025.6.15)\n",
      "Collecting typing_extensions~=4.13.2 (from selenium)\n",
      "  Downloading typing_extensions-4.13.2-py3-none-any.whl.metadata (3.0 kB)\n",
      "Collecting websocket-client~=1.8.0 (from selenium)\n",
      "  Downloading websocket_client-1.8.0-py3-none-any.whl.metadata (8.0 kB)\n",
      "Collecting attrs>=23.2.0 (from trio~=0.30.0->selenium)\n",
      "  Downloading attrs-25.3.0-py3-none-any.whl.metadata (10 kB)\n",
      "Collecting sortedcontainers (from trio~=0.30.0->selenium)\n",
      "  Downloading sortedcontainers-2.4.0-py2.py3-none-any.whl.metadata (10 kB)\n",
      "Requirement already satisfied: idna in .\\.venv\\lib\\site-packages (from trio~=0.30.0->selenium) (3.10)\n",
      "Collecting outcome (from trio~=0.30.0->selenium)\n",
      "  Downloading outcome-1.3.0.post0-py2.py3-none-any.whl.metadata (2.6 kB)\n",
      "Collecting sniffio>=1.3.0 (from trio~=0.30.0->selenium)\n",
      "  Downloading sniffio-1.3.1-py3-none-any.whl.metadata (3.9 kB)\n",
      "Collecting cffi>=1.14 (from trio~=0.30.0->selenium)\n",
      "  Downloading cffi-1.17.1-cp313-cp313-win_amd64.whl.metadata (1.6 kB)\n",
      "Collecting wsproto>=0.14 (from trio-websocket~=0.12.2->selenium)\n",
      "  Downloading wsproto-1.2.0-py3-none-any.whl.metadata (5.6 kB)\n",
      "Collecting pysocks!=1.5.7,<2.0,>=1.5.6 (from urllib3[socks]~=2.4.0->selenium)\n",
      "  Downloading PySocks-1.7.1-py3-none-any.whl.metadata (13 kB)\n",
      "Collecting pycparser (from cffi>=1.14->trio~=0.30.0->selenium)\n",
      "  Downloading pycparser-2.22-py3-none-any.whl.metadata (943 bytes)\n",
      "Collecting h11<1,>=0.9.0 (from wsproto>=0.14->trio-websocket~=0.12.2->selenium)\n",
      "  Downloading h11-0.16.0-py3-none-any.whl.metadata (8.3 kB)\n",
      "Downloading selenium-4.33.0-py3-none-any.whl (9.4 MB)\n",
      "   ---------------------------------------- 0.0/9.4 MB ? eta -:--:--\n",
      "   - -------------------------------------- 0.3/9.4 MB ? eta -:--:--\n",
      "   --- ------------------------------------ 0.8/9.4 MB 2.3 MB/s eta 0:00:04\n",
      "   ----- ---------------------------------- 1.3/9.4 MB 2.4 MB/s eta 0:00:04\n",
      "   ------- -------------------------------- 1.8/9.4 MB 2.4 MB/s eta 0:00:04\n",
      "   -------- ------------------------------- 2.1/9.4 MB 2.3 MB/s eta 0:00:04\n",
      "   ----------- ---------------------------- 2.6/9.4 MB 2.3 MB/s eta 0:00:03\n",
      "   ------------- -------------------------- 3.1/9.4 MB 2.3 MB/s eta 0:00:03\n",
      "   --------------- ------------------------ 3.7/9.4 MB 2.4 MB/s eta 0:00:03\n",
      "   ----------------- ---------------------- 4.2/9.4 MB 2.4 MB/s eta 0:00:03\n",
      "   -------------------- ------------------- 4.7/9.4 MB 2.4 MB/s eta 0:00:02\n",
      "   ----------------------- ---------------- 5.5/9.4 MB 2.5 MB/s eta 0:00:02\n",
      "   ------------------------- -------------- 6.0/9.4 MB 2.5 MB/s eta 0:00:02\n",
      "   --------------------------- ------------ 6.6/9.4 MB 2.5 MB/s eta 0:00:02\n",
      "   ------------------------------- -------- 7.3/9.4 MB 2.6 MB/s eta 0:00:01\n",
      "   ---------------------------------- ----- 8.1/9.4 MB 2.6 MB/s eta 0:00:01\n",
      "   -------------------------------------- - 8.9/9.4 MB 2.7 MB/s eta 0:00:01\n",
      "   ---------------------------------------- 9.4/9.4 MB 2.7 MB/s eta 0:00:00\n",
      "Downloading trio-0.30.0-py3-none-any.whl (499 kB)\n",
      "Downloading trio_websocket-0.12.2-py3-none-any.whl (21 kB)\n",
      "Downloading typing_extensions-4.13.2-py3-none-any.whl (45 kB)\n",
      "Downloading PySocks-1.7.1-py3-none-any.whl (16 kB)\n",
      "Downloading websocket_client-1.8.0-py3-none-any.whl (58 kB)\n",
      "Downloading attrs-25.3.0-py3-none-any.whl (63 kB)\n",
      "Downloading cffi-1.17.1-cp313-cp313-win_amd64.whl (182 kB)\n",
      "Downloading outcome-1.3.0.post0-py2.py3-none-any.whl (10 kB)\n",
      "Downloading sniffio-1.3.1-py3-none-any.whl (10 kB)\n",
      "Downloading wsproto-1.2.0-py3-none-any.whl (24 kB)\n",
      "Downloading h11-0.16.0-py3-none-any.whl (37 kB)\n",
      "Downloading pycparser-2.22-py3-none-any.whl (117 kB)\n",
      "Downloading sortedcontainers-2.4.0-py2.py3-none-any.whl (29 kB)\n",
      "Installing collected packages: sortedcontainers, websocket-client, typing_extensions, sniffio, pysocks, pycparser, h11, attrs, wsproto, outcome, cffi, trio, trio-websocket, selenium\n",
      "\n",
      "   ----------------------------------------  0/14 [sortedcontainers]\n",
      "   -- -------------------------------------  1/14 [websocket-client]\n",
      "   -- -------------------------------------  1/14 [websocket-client]\n",
      "   -- -------------------------------------  1/14 [websocket-client]\n",
      "   -- -------------------------------------  1/14 [websocket-client]\n",
      "   -- -------------------------------------  1/14 [websocket-client]\n",
      "   -- -------------------------------------  1/14 [websocket-client]\n",
      "   -- -------------------------------------  1/14 [websocket-client]\n",
      "  Attempting uninstall: typing_extensions\n",
      "   -- -------------------------------------  1/14 [websocket-client]\n",
      "    Found existing installation: typing_extensions 4.14.0\n",
      "   -- -------------------------------------  1/14 [websocket-client]\n",
      "    Uninstalling typing_extensions-4.14.0:\n",
      "   -- -------------------------------------  1/14 [websocket-client]\n",
      "   ----- ----------------------------------  2/14 [typing_extensions]\n",
      "      Successfully uninstalled typing_extensions-4.14.0\n",
      "   ----- ----------------------------------  2/14 [typing_extensions]\n",
      "   ----- ----------------------------------  2/14 [typing_extensions]\n",
      "   ----------- ----------------------------  4/14 [pysocks]\n",
      "   -------------- -------------------------  5/14 [pycparser]\n",
      "   -------------- -------------------------  5/14 [pycparser]\n",
      "   -------------- -------------------------  5/14 [pycparser]\n",
      "   -------------- -------------------------  5/14 [pycparser]\n",
      "   -------------- -------------------------  5/14 [pycparser]\n",
      "   ----------------- ----------------------  6/14 [h11]\n",
      "   ----------------- ----------------------  6/14 [h11]\n",
      "   ----------------- ----------------------  6/14 [h11]\n",
      "   ----------------- ----------------------  6/14 [h11]\n",
      "   -------------------- -------------------  7/14 [attrs]\n",
      "   -------------------- -------------------  7/14 [attrs]\n",
      "   -------------------- -------------------  7/14 [attrs]\n",
      "   -------------------- -------------------  7/14 [attrs]\n",
      "   ---------------------- -----------------  8/14 [wsproto]\n",
      "   ------------------------- --------------  9/14 [outcome]\n",
      "   ---------------------------- ----------- 10/14 [cffi]\n",
      "   ---------------------------- ----------- 10/14 [cffi]\n",
      "   ---------------------------- ----------- 10/14 [cffi]\n",
      "   ---------------------------- ----------- 10/14 [cffi]\n",
      "   ---------------------------- ----------- 10/14 [cffi]\n",
      "   ------------------------------- -------- 11/14 [trio]\n",
      "   ------------------------------- -------- 11/14 [trio]\n",
      "   ------------------------------- -------- 11/14 [trio]\n",
      "   ------------------------------- -------- 11/14 [trio]\n",
      "   ------------------------------- -------- 11/14 [trio]\n",
      "   ------------------------------- -------- 11/14 [trio]\n",
      "   ------------------------------- -------- 11/14 [trio]\n",
      "   ------------------------------- -------- 11/14 [trio]\n",
      "   ------------------------------- -------- 11/14 [trio]\n",
      "   ------------------------------- -------- 11/14 [trio]\n",
      "   ------------------------------- -------- 11/14 [trio]\n",
      "   ------------------------------- -------- 11/14 [trio]\n",
      "   ------------------------------- -------- 11/14 [trio]\n",
      "   ------------------------------- -------- 11/14 [trio]\n",
      "   ------------------------------- -------- 11/14 [trio]\n",
      "   ------------------------------- -------- 11/14 [trio]\n",
      "   ------------------------------- -------- 11/14 [trio]\n",
      "   ------------------------------- -------- 11/14 [trio]\n",
      "   ------------------------------- -------- 11/14 [trio]\n",
      "   ------------------------------- -------- 11/14 [trio]\n",
      "   ------------------------------- -------- 11/14 [trio]\n",
      "   ------------------------------- -------- 11/14 [trio]\n",
      "   ------------------------------- -------- 11/14 [trio]\n",
      "   ------------------------------- -------- 11/14 [trio]\n",
      "   ------------------------------- -------- 11/14 [trio]\n",
      "   ------------------------------- -------- 11/14 [trio]\n",
      "   ------------------------------- -------- 11/14 [trio]\n",
      "   ------------------------------- -------- 11/14 [trio]\n",
      "   ------------------------------- -------- 11/14 [trio]\n",
      "   ------------------------------- -------- 11/14 [trio]\n",
      "   ------------------------------- -------- 11/14 [trio]\n",
      "   ---------------------------------- ----- 12/14 [trio-websocket]\n",
      "   ---------------------------------- ----- 12/14 [trio-websocket]\n",
      "   ------------------------------------- -- 13/14 [selenium]\n",
      "   ------------------------------------- -- 13/14 [selenium]\n",
      "   ------------------------------------- -- 13/14 [selenium]\n",
      "   ------------------------------------- -- 13/14 [selenium]\n",
      "   ------------------------------------- -- 13/14 [selenium]\n",
      "   ------------------------------------- -- 13/14 [selenium]\n",
      "   ------------------------------------- -- 13/14 [selenium]\n",
      "   ------------------------------------- -- 13/14 [selenium]\n",
      "   ------------------------------------- -- 13/14 [selenium]\n",
      "   ------------------------------------- -- 13/14 [selenium]\n",
      "   ------------------------------------- -- 13/14 [selenium]\n",
      "   ------------------------------------- -- 13/14 [selenium]\n",
      "   ------------------------------------- -- 13/14 [selenium]\n",
      "   ------------------------------------- -- 13/14 [selenium]\n",
      "   ------------------------------------- -- 13/14 [selenium]\n",
      "   ------------------------------------- -- 13/14 [selenium]\n",
      "   ------------------------------------- -- 13/14 [selenium]\n",
      "   ------------------------------------- -- 13/14 [selenium]\n",
      "   ------------------------------------- -- 13/14 [selenium]\n",
      "   ------------------------------------- -- 13/14 [selenium]\n",
      "   ------------------------------------- -- 13/14 [selenium]\n",
      "   ------------------------------------- -- 13/14 [selenium]\n",
      "   ------------------------------------- -- 13/14 [selenium]\n",
      "   ------------------------------------- -- 13/14 [selenium]\n",
      "   ------------------------------------- -- 13/14 [selenium]\n",
      "   ------------------------------------- -- 13/14 [selenium]\n",
      "   ------------------------------------- -- 13/14 [selenium]\n",
      "   ------------------------------------- -- 13/14 [selenium]\n",
      "   ------------------------------------- -- 13/14 [selenium]\n",
      "   ------------------------------------- -- 13/14 [selenium]\n",
      "   ------------------------------------- -- 13/14 [selenium]\n",
      "   ------------------------------------- -- 13/14 [selenium]\n",
      "   ------------------------------------- -- 13/14 [selenium]\n",
      "   ------------------------------------- -- 13/14 [selenium]\n",
      "   ------------------------------------- -- 13/14 [selenium]\n",
      "   ------------------------------------- -- 13/14 [selenium]\n",
      "   ------------------------------------- -- 13/14 [selenium]\n",
      "   ------------------------------------- -- 13/14 [selenium]\n",
      "   ------------------------------------- -- 13/14 [selenium]\n",
      "   ------------------------------------- -- 13/14 [selenium]\n",
      "   ------------------------------------- -- 13/14 [selenium]\n",
      "   ------------------------------------- -- 13/14 [selenium]\n",
      "   ------------------------------------- -- 13/14 [selenium]\n",
      "   ------------------------------------- -- 13/14 [selenium]\n",
      "   ------------------------------------- -- 13/14 [selenium]\n",
      "   ------------------------------------- -- 13/14 [selenium]\n",
      "   ------------------------------------- -- 13/14 [selenium]\n",
      "   ------------------------------------- -- 13/14 [selenium]\n",
      "   ------------------------------------- -- 13/14 [selenium]\n",
      "   ------------------------------------- -- 13/14 [selenium]\n",
      "   ------------------------------------- -- 13/14 [selenium]\n",
      "   ------------------------------------- -- 13/14 [selenium]\n",
      "   ------------------------------------- -- 13/14 [selenium]\n",
      "   ------------------------------------- -- 13/14 [selenium]\n",
      "   ------------------------------------- -- 13/14 [selenium]\n",
      "   ------------------------------------- -- 13/14 [selenium]\n",
      "   ------------------------------------- -- 13/14 [selenium]\n",
      "   ------------------------------------- -- 13/14 [selenium]\n",
      "   ------------------------------------- -- 13/14 [selenium]\n",
      "   ---------------------------------------- 14/14 [selenium]\n",
      "\n",
      "Successfully installed attrs-25.3.0 cffi-1.17.1 h11-0.16.0 outcome-1.3.0.post0 pycparser-2.22 pysocks-1.7.1 selenium-4.33.0 sniffio-1.3.1 sortedcontainers-2.4.0 trio-0.30.0 trio-websocket-0.12.2 typing_extensions-4.13.2 websocket-client-1.8.0 wsproto-1.2.0\n",
      "Note: you may need to restart the kernel to use updated packages.\n"
     ]
    }
   ],
   "source": [
    "pip install selenium"
   ]
  },
  {
   "cell_type": "code",
   "execution_count": 16,
   "id": "bb9fe1d9",
   "metadata": {},
   "outputs": [
    {
     "ename": "ImportError",
     "evalue": "cannot import name 'selenium' from 'selenium' (c:\\project\\py_project\\.venv\\Lib\\site-packages\\selenium\\__init__.py)",
     "output_type": "error",
     "traceback": [
      "\u001b[31m---------------------------------------------------------------------------\u001b[39m",
      "\u001b[31mImportError\u001b[39m                               Traceback (most recent call last)",
      "\u001b[36mCell\u001b[39m\u001b[36m \u001b[39m\u001b[32mIn[16]\u001b[39m\u001b[32m, line 1\u001b[39m\n\u001b[32m----> \u001b[39m\u001b[32m1\u001b[39m \u001b[38;5;28;01mfrom\u001b[39;00m\u001b[38;5;250m \u001b[39m\u001b[34;01mselenium\u001b[39;00m\u001b[38;5;250m \u001b[39m\u001b[38;5;28;01mimport\u001b[39;00m selenium\n",
      "\u001b[31mImportError\u001b[39m: cannot import name 'selenium' from 'selenium' (c:\\project\\py_project\\.venv\\Lib\\site-packages\\selenium\\__init__.py)"
     ]
    }
   ],
   "source": [
    "from selenium import selenium"
   ]
  },
  {
   "cell_type": "code",
   "execution_count": null,
   "id": "1c641382",
   "metadata": {},
   "outputs": [],
   "source": []
  },
  {
   "cell_type": "markdown",
   "id": "7601dedc",
   "metadata": {},
   "source": [
    "### 데이터 저장"
   ]
  },
  {
   "cell_type": "code",
   "execution_count": 17,
   "id": "41cb2f4e",
   "metadata": {},
   "outputs": [],
   "source": [
    "import csv"
   ]
  },
  {
   "cell_type": "code",
   "execution_count": null,
   "id": "36b42a6b",
   "metadata": {},
   "outputs": [],
   "source": [
    "# 데이터 준비\n",
    "data = {\n",
    "\n",
    "}\n",
    "    "
   ]
  },
  {
   "cell_type": "markdown",
   "id": "3bacec94",
   "metadata": {},
   "source": [
    "### SQLite: 관계형 데이터베이스"
   ]
  },
  {
   "cell_type": "code",
   "execution_count": 3,
   "id": "8a22b8cf",
   "metadata": {},
   "outputs": [],
   "source": [
    "import sqlite3"
   ]
  },
  {
   "cell_type": "code",
   "execution_count": 4,
   "id": "ed0ef5c4",
   "metadata": {},
   "outputs": [
    {
     "name": "stdout",
     "output_type": "stream",
     "text": [
      "데이터베이스 연결!!\n"
     ]
    }
   ],
   "source": [
    "conn = sqlite3.connect('first.db')\n",
    "print('데이터베이스 연결!!')\n",
    "conn.close()"
   ]
  },
  {
   "cell_type": "code",
   "execution_count": null,
   "id": "4332f538",
   "metadata": {},
   "outputs": [
    {
     "ename": "OperationalError",
     "evalue": "table user already exists",
     "output_type": "error",
     "traceback": [
      "\u001b[31m---------------------------------------------------------------------------\u001b[39m",
      "\u001b[31mOperationalError\u001b[39m                          Traceback (most recent call last)",
      "\u001b[36mCell\u001b[39m\u001b[36m \u001b[39m\u001b[32mIn[5]\u001b[39m\u001b[32m, line 23\u001b[39m\n\u001b[32m     20\u001b[39m cursor = conn.cursor()\n\u001b[32m     22\u001b[39m \u001b[38;5;66;03m# sql 실행\u001b[39;00m\n\u001b[32m---> \u001b[39m\u001b[32m23\u001b[39m \u001b[43mcursor\u001b[49m\u001b[43m.\u001b[49m\u001b[43mexecute\u001b[49m\u001b[43m(\u001b[49m\u001b[43msql_create\u001b[49m\u001b[43m)\u001b[49m\n\u001b[32m     25\u001b[39m \u001b[38;5;28mprint\u001b[39m(\u001b[33m'\u001b[39m\u001b[33mOK!\u001b[39m\u001b[33m'\u001b[39m)\n\u001b[32m     27\u001b[39m \u001b[38;5;66;03m# 연결 종료\u001b[39;00m\n",
      "\u001b[31mOperationalError\u001b[39m: table user already exists"
     ]
    }
   ],
   "source": [
    "# 관계형 데이터베이스: 테이블 구조로 데이터 저장\n",
    "# 저장할 수 있는 공간 생성 -> table 생성\n",
    "# sql: create table 테이블 이름 (컬럼 이름1 데이터 타입1 제약조건1, 컬럼 이름2 데이터 타입2 제약조건2, ...)\n",
    "\n",
    "# autoincrement -> 자동으로 증가\n",
    "sql_create = '''\n",
    "create table user (\n",
    "    id integer primary key autoincrement,\n",
    "    name text not null,\n",
    "    age integer,\n",
    "    city text\n",
    ")\n",
    "'''\n",
    "\n",
    "# 테이블 생성\n",
    "# 데이터베이스 연결\n",
    "conn = sqlite3.connect('first.db') \n",
    "\n",
    "# sql 실행할 수 있는 객체 필요\n",
    "cursor = conn.cursor()\n",
    "\n",
    "# sql 실행\n",
    "cursor.execute(sql_create)\n",
    "\n",
    "print('OK!')\n",
    "\n",
    "# 연결 종료\n",
    "conn.close()"
   ]
  },
  {
   "cell_type": "code",
   "execution_count": null,
   "id": "209cda5f",
   "metadata": {},
   "outputs": [],
   "source": [
    "# 데이터 입력: 행 단위 입력 -> (이름, 나이, 거주지)\n",
    "# insert into 테이블 이름 (name, age, city) values (?, ?, ?)\n",
    "\n",
    "# 데이터베이스 연결\n",
    "conn = sqlite3.connect('first.db') \n",
    "\n",
    "# 데이터 처리\n",
    "cursor = conn.cursor()\n",
    "sql_insert = 'insert into user (name, age, city) values (?, ?, ?)'\n",
    "\n",
    "# sql 실행\n",
    "cursor.execute(sql_insert, ('yes', 25, 'LA'))\n",
    "\n",
    "# 여러 행 넣기\n",
    "# data = [\n",
    "#     ('cool', 20, 'Seoul'),\n",
    "#     ('king', 25, 'London'),\n",
    "#     ('hot', 30, 'Pusan'),\n",
    "#     ('wow', 35, 'Seoul'),\n",
    "#     ('kind', 20, 'Tokyo')\n",
    "# ]\n",
    "\n",
    "# cursor.executemany(sql_insert, data)\n",
    "\n",
    "# 입력, 수정, 삭제 -> DML\n",
    "# 완료 여부를 코드로 지정 -> 물리적인 저장\n",
    "conn.commit() # 작업 끝 파일 저장~\n",
    "\n",
    "conn.close()"
   ]
  },
  {
   "cell_type": "code",
   "execution_count": null,
   "id": "f41d9f5d",
   "metadata": {},
   "outputs": [
    {
     "name": "stdout",
     "output_type": "stream",
     "text": [
      "(2, 'cool', 20, 'Seoul')\n",
      "(3, 'king', 25, 'London')\n",
      "(4, 'hot', 30, 'Pusan')\n",
      "(5, 'wow', 35, 'Seoul')\n",
      "(6, 'kind', 40, 'Tokyo')\n",
      "(7, 'yes', 25, 'LA')\n"
     ]
    }
   ],
   "source": [
    "# 질의 (검색): 데이터 검색 -> 행 단위 검색\n",
    "# sql = select 컬럼 이름 from 테이블 이름 [where 조건]\n",
    "\n",
    "# 데이터베이스 연결\n",
    "conn = sqlite3.connect('first.db') \n",
    "\n",
    "# 데이터 처리\n",
    "cursor = conn.cursor()\n",
    "sql_select = 'select * from user'\n",
    "\n",
    "cursor.execute(sql_select)\n",
    "\n",
    "# select 결과 -> fecthall(), fecthone()\n",
    "\n",
    "rows = cursor.fetchall()\n",
    "\n",
    "for row in rows:\n",
    "    print(row) # tuple 형식 데이터 반환\n",
    "\n",
    "conn.close()\n"
   ]
  },
  {
   "cell_type": "code",
   "execution_count": null,
   "id": "1b562317",
   "metadata": {},
   "outputs": [
    {
     "name": "stdout",
     "output_type": "stream",
     "text": [
      "update OK\n"
     ]
    }
   ],
   "source": [
    "# 데이터 수정: 행 단위 수정, 행 찾기 -> 행 컬럼 값 변경(삭제, 입력, 치환)\n",
    "# update 테이블 이름 set 컬럼 이름 = 값, ... where 조건\n",
    "\n",
    "# 데이터베이스 연결\n",
    "conn = sqlite3.connect('first.db') \n",
    "\n",
    "# 데이터 처리\n",
    "cursor = conn.cursor()\n",
    "sql_update = 'update user set age = ? where id = ?'\n",
    "\n",
    "cursor.execute(sql_update, (40, 6))\n",
    "\n",
    "conn.commit()\n",
    "print('update OK')\n",
    "\n",
    "conn.close()"
   ]
  },
  {
   "cell_type": "code",
   "execution_count": null,
   "id": "a1fd3680",
   "metadata": {},
   "outputs": [
    {
     "name": "stdout",
     "output_type": "stream",
     "text": [
      "delete OK\n"
     ]
    }
   ],
   "source": [
    "# 데이터 삭제: 행 단위 삭제\n",
    "# delete from 테이블 이름 where 조건\n",
    "\n",
    "# 데이터베이스 연결\n",
    "conn = sqlite3.connect('first.db') \n",
    "\n",
    "# 데이터 처리\n",
    "cursor = conn.cursor()\n",
    "sql_delete = 'delete from user where id = ?'\n",
    "\n",
    "cursor.execute(sql_delete, (1, ))\n",
    "\n",
    "conn.commit()\n",
    "print('delete OK')\n",
    "\n",
    "conn.close()"
   ]
  },
  {
   "cell_type": "code",
   "execution_count": 22,
   "id": "72805e3e",
   "metadata": {},
   "outputs": [
    {
     "name": "stdout",
     "output_type": "stream",
     "text": [
      "원본 데이터프레임:\n",
      "      Name  Age  Score\n",
      "0    Alice   25     85\n",
      "1      Bob   30     90\n",
      "2    Alice   25     85\n",
      "3  Charlie   35     95\n",
      "4      Bob   30     90\n"
     ]
    }
   ],
   "source": [
    "# pandas 중복 데이터 확인 및 제거\n",
    "import pandas as pd\n",
    "\n",
    "# 예제 데이터\n",
    "data = {'Name': ['Alice', 'Bob', 'Alice', 'Charlie', 'Bob'],\n",
    "'Age': [25, 30, 25, 35, 30],\n",
    "'Score': [85, 90, 85, 95, 90]}\n",
    "\n",
    "df = pd.DataFrame(data)\n",
    "print('원본 데이터프레임:')\n",
    "print(df)"
   ]
  },
  {
   "cell_type": "code",
   "execution_count": 19,
   "id": "8930e666",
   "metadata": {},
   "outputs": [
    {
     "data": {
      "text/plain": [
       "0    False\n",
       "1    False\n",
       "2     True\n",
       "3    False\n",
       "4     True\n",
       "dtype: bool"
      ]
     },
     "execution_count": 19,
     "metadata": {},
     "output_type": "execute_result"
    }
   ],
   "source": [
    "df.duplicated()"
   ]
  },
  {
   "cell_type": "code",
   "execution_count": 20,
   "id": "ad0bbc15",
   "metadata": {},
   "outputs": [
    {
     "name": "stdout",
     "output_type": "stream",
     "text": [
      "1. 중복 데이터 제거 (첫 데이터 유지)\n",
      "      Name  Age  Score\n",
      "0    Alice   25     85\n",
      "1      Bob   30     90\n",
      "3  Charlie   35     95\n"
     ]
    }
   ],
   "source": [
    "# 중복 데이터 제거 (행의 모든 열의 값이 같은 경우)\n",
    "df_1 = df.drop_duplicates(keep='first')\n",
    "print('1. 중복 데이터 제거 (첫 데이터 유지)')\n",
    "print(df_1)"
   ]
  },
  {
   "cell_type": "code",
   "execution_count": 24,
   "id": "c8b9a391",
   "metadata": {},
   "outputs": [
    {
     "name": "stdout",
     "output_type": "stream",
     "text": [
      "1. 중복 데이터 제거 (나중 데이터 유지)\n",
      "      Name  Age  Score\n",
      "2    Alice   25     85\n",
      "3  Charlie   35     95\n",
      "4      Bob   30     90\n"
     ]
    }
   ],
   "source": [
    "df_1 = df.drop_duplicates(keep='last')\n",
    "print('1. 중복 데이터 제거 (나중 데이터 유지)')\n",
    "print(df_1)"
   ]
  },
  {
   "cell_type": "code",
   "execution_count": null,
   "id": "3e47976e",
   "metadata": {},
   "outputs": [
    {
     "name": "stdout",
     "output_type": "stream",
     "text": [
      "2. Name 열의 값을 기준으로 행 삭제\n",
      "      Name  Age  Score\n",
      "2    Alice   25     85\n",
      "3  Charlie   35     95\n",
      "4      Bob   30     90\n"
     ]
    }
   ],
   "source": [
    "# 측정 열('Name')을 기준으로 중복 행 삭제\n",
    "\n",
    "df_2 = df.drop_duplicates(subset=['Name'], keep='last')\n",
    "print('2. Name 열의 값을 기준으로 행 삭제')\n",
    "print(df_2)"
   ]
  },
  {
   "cell_type": "code",
   "execution_count": 26,
   "id": "6774af0b",
   "metadata": {},
   "outputs": [
    {
     "name": "stdout",
     "output_type": "stream",
     "text": [
      "      Name  Age  Score\n",
      "3  Charlie   35     95\n"
     ]
    }
   ],
   "source": [
    "# 중복 모두 삭제\n",
    "df_3 = df.drop_duplicates(keep=False)\n",
    "print(df_3)"
   ]
  },
  {
   "cell_type": "markdown",
   "id": "2fbd29b1",
   "metadata": {},
   "source": [
    "### 데이터 변환 및 스케일링"
   ]
  },
  {
   "cell_type": "code",
   "execution_count": null,
   "id": "5011ae1a",
   "metadata": {},
   "outputs": [],
   "source": []
  }
 ],
 "metadata": {
  "kernelspec": {
   "display_name": ".venv",
   "language": "python",
   "name": "python3"
  },
  "language_info": {
   "codemirror_mode": {
    "name": "ipython",
    "version": 3
   },
   "file_extension": ".py",
   "mimetype": "text/x-python",
   "name": "python",
   "nbconvert_exporter": "python",
   "pygments_lexer": "ipython3",
   "version": "3.13.4"
  }
 },
 "nbformat": 4,
 "nbformat_minor": 5
}

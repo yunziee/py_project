{
 "cells": [
  {
   "cell_type": "code",
   "execution_count": 2,
   "id": "6d61629c",
   "metadata": {},
   "outputs": [],
   "source": [
    "# 리스트 : [] =>  순서를 가지는 데이터 묶음\n",
    "# index 값으로 요소들을 참조 => 0 ~ N(요소의 개수)-1\n",
    "list_a = [1,2,3]\n",
    "# index   0 1 2\n",
    "# 요소의 개수 : 3"
   ]
  },
  {
   "cell_type": "code",
   "execution_count": 3,
   "id": "84944e88",
   "metadata": {},
   "outputs": [
    {
     "name": "stdout",
     "output_type": "stream",
     "text": [
      "[1, 2, 3] <class 'list'>\n"
     ]
    }
   ],
   "source": [
    "print(list_a, type(list_a))"
   ]
  },
  {
   "cell_type": "code",
   "execution_count": 4,
   "id": "21ecb1d6",
   "metadata": {},
   "outputs": [
    {
     "data": {
      "text/plain": [
       "3"
      ]
     },
     "execution_count": 4,
     "metadata": {},
     "output_type": "execute_result"
    }
   ],
   "source": [
    "# 요소의 참조\n",
    "list_a[2]"
   ]
  },
  {
   "cell_type": "code",
   "execution_count": 5,
   "id": "d43b9291",
   "metadata": {},
   "outputs": [],
   "source": [
    "list_a[2] = 4"
   ]
  },
  {
   "cell_type": "code",
   "execution_count": 6,
   "id": "dd8b1877",
   "metadata": {},
   "outputs": [
    {
     "data": {
      "text/plain": [
       "[1, 2, 4]"
      ]
     },
     "execution_count": 6,
     "metadata": {},
     "output_type": "execute_result"
    }
   ],
   "source": [
    "list_a"
   ]
  },
  {
   "cell_type": "code",
   "execution_count": 7,
   "id": "f845ada4",
   "metadata": {},
   "outputs": [
    {
     "data": {
      "text/plain": [
       "3"
      ]
     },
     "execution_count": 7,
     "metadata": {},
     "output_type": "execute_result"
    }
   ],
   "source": [
    "list_a[0] + list_a[1]"
   ]
  },
  {
   "cell_type": "code",
   "execution_count": 8,
   "id": "2fd3f8a0",
   "metadata": {},
   "outputs": [
    {
     "data": {
      "text/plain": [
       "4"
      ]
     },
     "execution_count": 8,
     "metadata": {},
     "output_type": "execute_result"
    }
   ],
   "source": [
    "# 마지막부터 인덱스\n",
    "list_a[-1]"
   ]
  },
  {
   "cell_type": "code",
   "execution_count": 9,
   "id": "82b85abc",
   "metadata": {},
   "outputs": [
    {
     "data": {
      "text/plain": [
       "4"
      ]
     },
     "execution_count": 9,
     "metadata": {},
     "output_type": "execute_result"
    }
   ],
   "source": [
    "# 리스트 구조 이해해 보기기\n",
    "list_a[ len(list_a)-1 ] # N-1"
   ]
  },
  {
   "cell_type": "code",
   "execution_count": 10,
   "id": "26fd7d4b",
   "metadata": {},
   "outputs": [],
   "source": [
    "#  인덱스  0  1  2       3\n",
    "#  요소  int int int   list\n",
    "list_b = [1, 2, 3, ['a', 'b', 'c']]"
   ]
  },
  {
   "cell_type": "code",
   "execution_count": 11,
   "id": "cbb32604",
   "metadata": {},
   "outputs": [
    {
     "data": {
      "text/plain": [
       "4"
      ]
     },
     "execution_count": 11,
     "metadata": {},
     "output_type": "execute_result"
    }
   ],
   "source": [
    "len(list_b)"
   ]
  },
  {
   "cell_type": "code",
   "execution_count": null,
   "id": "4457dc53",
   "metadata": {},
   "outputs": [
    {
     "name": "stdout",
     "output_type": "stream",
     "text": [
      "1\n",
      "2\n",
      "3\n",
      "['a', 'b', 'c']\n",
      "a\n",
      "b\n",
      "c\n"
     ]
    }
   ],
   "source": [
    "print(list_b[0])\n",
    "print(list_b[1])\n",
    "print(list_b[2])\n",
    "print(list_b[3]) # list가 중첩된 형태\n",
    "print(list_b[3][0])\n",
    "print(list_b[3][1])\n",
    "print(list_b[3][2])\n",
    "# list_b[3]은 list를 가르키는 주소 값 index"
   ]
  },
  {
   "cell_type": "code",
   "execution_count": 15,
   "id": "f0ba8dd2",
   "metadata": {},
   "outputs": [],
   "source": [
    "# 슬라이싱\n",
    "list_c = [1, 2, 3, 4, 5]"
   ]
  },
  {
   "cell_type": "code",
   "execution_count": 22,
   "id": "b39e7e24",
   "metadata": {},
   "outputs": [
    {
     "data": {
      "text/plain": [
       "[1, 2, 3, 4, 5]"
      ]
     },
     "execution_count": 22,
     "metadata": {},
     "output_type": "execute_result"
    }
   ],
   "source": [
    "list_c[1:4] # 4 인덱스 이전까지\n",
    "list_c[:4] # 기본 시작 인덱스는 0 (제일 처음부터 출력)\n",
    "list_c[1:] # 기본 마지막 인덱스는 n+1 (제일 마지막까지 출력)\n",
    "\n",
    "# 전체 출력\n",
    "list_c\n",
    "list_c[:]\n",
    "list_c[0:5]"
   ]
  },
  {
   "cell_type": "code",
   "execution_count": 23,
   "id": "6d1c8f48",
   "metadata": {},
   "outputs": [],
   "source": [
    "# list의 연산 (+, *)\n",
    "\n",
    "list_d = [100, 200, 300]"
   ]
  },
  {
   "cell_type": "code",
   "execution_count": null,
   "id": "7073c6c3",
   "metadata": {},
   "outputs": [
    {
     "data": {
      "text/plain": [
       "[100, 200, 300, 1, 2, 3, 4, 5]"
      ]
     },
     "execution_count": 27,
     "metadata": {},
     "output_type": "execute_result"
    }
   ],
   "source": [
    "# 덧셈 (리스트 요소 붙여 주기기)\n",
    "\n",
    "list_c\n",
    "list_d\n",
    "\n",
    "# 새로운 리스트가 생성됨\n",
    "list_c + list_d\n",
    "list_d + list_c"
   ]
  },
  {
   "cell_type": "code",
   "execution_count": null,
   "id": "39afd614",
   "metadata": {},
   "outputs": [
    {
     "data": {
      "text/plain": [
       "[100, 200, 300, 100, 200, 300, 100, 200, 300]"
      ]
     },
     "execution_count": 28,
     "metadata": {},
     "output_type": "execute_result"
    }
   ],
   "source": [
    "# 곱셈 (리스트 요소 n 번 반복)\n",
    "# 새로운 리스트 생성\n",
    "\n",
    "list_d * 3"
   ]
  },
  {
   "cell_type": "code",
   "execution_count": null,
   "id": "6c235fc3",
   "metadata": {},
   "outputs": [
    {
     "data": {
      "text/plain": [
       "[1, 2, 3]"
      ]
     },
     "execution_count": 33,
     "metadata": {},
     "output_type": "execute_result"
    }
   ],
   "source": [
    "# 리스트 요소 (데이터) 변경 메서드\n",
    "\n",
    "# append(): 리스트의 마지막에 데이터 추가해 주는 메서드\n",
    "\n",
    "list_a = [1, 2, 3]\n",
    "list_a"
   ]
  },
  {
   "cell_type": "code",
   "execution_count": null,
   "id": "0038a86c",
   "metadata": {},
   "outputs": [
    {
     "data": {
      "text/plain": [
       "[1, 2, 3, 100]"
      ]
     },
     "execution_count": 34,
     "metadata": {},
     "output_type": "execute_result"
    }
   ],
   "source": [
    "# list는 객체\n",
    "list_a.append(100)\n",
    "list_a"
   ]
  },
  {
   "cell_type": "code",
   "execution_count": 35,
   "id": "752c2d72",
   "metadata": {},
   "outputs": [
    {
     "data": {
      "text/plain": [
       "[1, 2, 3, 100, 500]"
      ]
     },
     "execution_count": 35,
     "metadata": {},
     "output_type": "execute_result"
    }
   ],
   "source": [
    "list_a.append(500)\n",
    "list_a"
   ]
  },
  {
   "cell_type": "code",
   "execution_count": null,
   "id": "b0433edf",
   "metadata": {},
   "outputs": [
    {
     "data": {
      "text/plain": [
       "500"
      ]
     },
     "execution_count": 36,
     "metadata": {},
     "output_type": "execute_result"
    }
   ],
   "source": [
    "# pop(): 리스트의 마지막 요소 추출 -> 삭제, 값 반환\n",
    "# 인덱스를 넣으면 그 요소가 추출됨\n",
    "\n",
    "list_a.pop()"
   ]
  },
  {
   "cell_type": "code",
   "execution_count": 37,
   "id": "43e2f709",
   "metadata": {},
   "outputs": [
    {
     "data": {
      "text/plain": [
       "[1, 2, 3, 100]"
      ]
     },
     "execution_count": 37,
     "metadata": {},
     "output_type": "execute_result"
    }
   ],
   "source": [
    "list_a"
   ]
  },
  {
   "cell_type": "code",
   "execution_count": 38,
   "id": "a55d3c58",
   "metadata": {},
   "outputs": [
    {
     "data": {
      "text/plain": [
       "2"
      ]
     },
     "execution_count": 38,
     "metadata": {},
     "output_type": "execute_result"
    }
   ],
   "source": [
    "list_a.pop(1)"
   ]
  },
  {
   "cell_type": "code",
   "execution_count": 39,
   "id": "695665d3",
   "metadata": {},
   "outputs": [],
   "source": [
    "list_a = [1, 4, 9, 2, 10]"
   ]
  },
  {
   "cell_type": "code",
   "execution_count": 41,
   "id": "225995a0",
   "metadata": {},
   "outputs": [
    {
     "data": {
      "text/plain": [
       "[1, 2, 4, 9, 10]"
      ]
     },
     "execution_count": 41,
     "metadata": {},
     "output_type": "execute_result"
    }
   ],
   "source": [
    "# sort(): 요소를 오름차순으로 정렬해 주는 메서드\n",
    "\n",
    "list_a.sort()\n",
    "list_a"
   ]
  },
  {
   "cell_type": "code",
   "execution_count": 42,
   "id": "ed5b4808",
   "metadata": {},
   "outputs": [
    {
     "data": {
      "text/plain": [
       "[10, 9, 4, 2, 1]"
      ]
     },
     "execution_count": 42,
     "metadata": {},
     "output_type": "execute_result"
    }
   ],
   "source": [
    "# reverse(): 요소를 내림차순으로 정렬해 주는 메서드\n",
    "\n",
    "list_a.reverse()\n",
    "list_a"
   ]
  },
  {
   "cell_type": "code",
   "execution_count": null,
   "id": "5bf7ec71",
   "metadata": {},
   "outputs": [
    {
     "data": {
      "text/plain": [
       "1"
      ]
     },
     "execution_count": 44,
     "metadata": {},
     "output_type": "execute_result"
    }
   ],
   "source": [
    "# index(data): 요소의 인덱스를 찾아주는 메서드\n",
    "# 해당 요소가 없을 때는 에러가 발생함\n",
    "\n",
    "list_a.index(9)"
   ]
  },
  {
   "cell_type": "code",
   "execution_count": null,
   "id": "1e734095",
   "metadata": {},
   "outputs": [
    {
     "data": {
      "text/plain": [
       "[10, 100, 9, 4, 2, 1]"
      ]
     },
     "execution_count": 45,
     "metadata": {},
     "output_type": "execute_result"
    }
   ],
   "source": [
    "# insert(index, data): 특정 인덱스 위치에 요소를 삽입해 주는 메서드드 \n",
    "\n",
    "list_a.insert(1, 100)\n",
    "list_a"
   ]
  },
  {
   "cell_type": "code",
   "execution_count": 46,
   "id": "8afb6679",
   "metadata": {},
   "outputs": [
    {
     "data": {
      "text/plain": [
       "[10, 100, 9, 4, 2, 1]"
      ]
     },
     "execution_count": 46,
     "metadata": {},
     "output_type": "execute_result"
    }
   ],
   "source": [
    "list_a"
   ]
  },
  {
   "cell_type": "code",
   "execution_count": 47,
   "id": "e07fec37",
   "metadata": {},
   "outputs": [
    {
     "data": {
      "text/plain": [
       "[100, 200, 300]"
      ]
     },
     "execution_count": 47,
     "metadata": {},
     "output_type": "execute_result"
    }
   ],
   "source": [
    "list_d"
   ]
  },
  {
   "cell_type": "code",
   "execution_count": 48,
   "id": "e96168a8",
   "metadata": {},
   "outputs": [
    {
     "data": {
      "text/plain": [
       "[10, 100, 9, 4, 2, 1, 100, 200, 300]"
      ]
     },
     "execution_count": 48,
     "metadata": {},
     "output_type": "execute_result"
    }
   ],
   "source": [
    "# extend(list): 리스트 요소 추가해 확장\n",
    "# 새로운 리스트 만드는 것 아님 원본 데이터 변경\n",
    "\n",
    "list_a.extend(list_d)\n",
    "list_a"
   ]
  },
  {
   "cell_type": "code",
   "execution_count": 50,
   "id": "b758e3d5",
   "metadata": {},
   "outputs": [
    {
     "name": "stdout",
     "output_type": "stream",
     "text": [
      "<class 'tuple'>\n"
     ]
    }
   ],
   "source": [
    "# 튜플: 리스트와 동일, 단 요소 데이터 변경 불가능\n",
    "# 데이터를 안전하게 유지하기 위함\n",
    "\n",
    "t_1 = ()\n",
    "print(type(t_1))"
   ]
  },
  {
   "cell_type": "code",
   "execution_count": 59,
   "id": "afca890a",
   "metadata": {},
   "outputs": [
    {
     "data": {
      "text/plain": [
       "(1, 2, 3, 4)"
      ]
     },
     "execution_count": 59,
     "metadata": {},
     "output_type": "execute_result"
    }
   ],
   "source": [
    "t_2 = (1, 2, 3, 4)\n",
    "t_2"
   ]
  },
  {
   "cell_type": "code",
   "execution_count": null,
   "id": "827ad1f5",
   "metadata": {},
   "outputs": [
    {
     "data": {
      "text/plain": [
       "(10, 20, 30, 40)"
      ]
     },
     "execution_count": 53,
     "metadata": {},
     "output_type": "execute_result"
    }
   ],
   "source": [
    "# 괄호 생략 가능\n",
    "\n",
    "t_3 = 10, 20, 30, 40\n",
    "t_3"
   ]
  },
  {
   "cell_type": "code",
   "execution_count": null,
   "id": "cdd8ed70",
   "metadata": {},
   "outputs": [
    {
     "ename": "IndexError",
     "evalue": "tuple index out of range",
     "output_type": "error",
     "traceback": [
      "\u001b[31m---------------------------------------------------------------------------\u001b[39m",
      "\u001b[31mIndexError\u001b[39m                                Traceback (most recent call last)",
      "\u001b[36mCell\u001b[39m\u001b[36m \u001b[39m\u001b[32mIn[54]\u001b[39m\u001b[32m, line 1\u001b[39m\n\u001b[32m----> \u001b[39m\u001b[32m1\u001b[39m \u001b[43mt_1\u001b[49m\u001b[43m[\u001b[49m\u001b[32;43m0\u001b[39;49m\u001b[43m]\u001b[49m\n",
      "\u001b[31mIndexError\u001b[39m: tuple index out of range"
     ]
    }
   ],
   "source": [
    "# 존재하지 않는 인덱스를 참조하라 했을 때 에러\n",
    "\n",
    "t_1[0]"
   ]
  },
  {
   "cell_type": "code",
   "execution_count": null,
   "id": "3bd32459",
   "metadata": {},
   "outputs": [
    {
     "ename": "TypeError",
     "evalue": "'tuple' object does not support item assignment",
     "output_type": "error",
     "traceback": [
      "\u001b[31m---------------------------------------------------------------------------\u001b[39m",
      "\u001b[31mTypeError\u001b[39m                                 Traceback (most recent call last)",
      "\u001b[36mCell\u001b[39m\u001b[36m \u001b[39m\u001b[32mIn[56]\u001b[39m\u001b[32m, line 3\u001b[39m\n\u001b[32m      1\u001b[39m \u001b[38;5;66;03m# 값 변경 에러\u001b[39;00m\n\u001b[32m----> \u001b[39m\u001b[32m3\u001b[39m \u001b[43mt_2\u001b[49m\u001b[43m[\u001b[49m\u001b[32;43m0\u001b[39;49m\u001b[43m]\u001b[49m = \u001b[32m100\u001b[39m\n",
      "\u001b[31mTypeError\u001b[39m: 'tuple' object does not support item assignment"
     ]
    }
   ],
   "source": [
    "# 요소 변경 에러\n",
    "\n",
    "t_2[0] = 100"
   ]
  },
  {
   "cell_type": "code",
   "execution_count": null,
   "id": "9338cb76",
   "metadata": {},
   "outputs": [
    {
     "ename": "TypeError",
     "evalue": "'tuple' object doesn't support item deletion",
     "output_type": "error",
     "traceback": [
      "\u001b[31m---------------------------------------------------------------------------\u001b[39m",
      "\u001b[31mTypeError\u001b[39m                                 Traceback (most recent call last)",
      "\u001b[36mCell\u001b[39m\u001b[36m \u001b[39m\u001b[32mIn[60]\u001b[39m\u001b[32m, line 1\u001b[39m\n\u001b[32m----> \u001b[39m\u001b[32m1\u001b[39m \u001b[38;5;28;01mdel\u001b[39;00m \u001b[43mt_2\u001b[49m\u001b[43m[\u001b[49m\u001b[32;43m0\u001b[39;49m\u001b[43m]\u001b[49m\n",
      "\u001b[31mTypeError\u001b[39m: 'tuple' object doesn't support item deletion"
     ]
    }
   ],
   "source": [
    "# 요소 삭제 에러\n",
    "\n",
    "del t_2[0]"
   ]
  },
  {
   "cell_type": "code",
   "execution_count": 61,
   "id": "ab8fd4f0",
   "metadata": {},
   "outputs": [
    {
     "data": {
      "text/plain": [
       "1"
      ]
     },
     "execution_count": 61,
     "metadata": {},
     "output_type": "execute_result"
    }
   ],
   "source": [
    "t_2[0]"
   ]
  },
  {
   "cell_type": "code",
   "execution_count": null,
   "id": "e2f496f7",
   "metadata": {},
   "outputs": [],
   "source": [
    "# 특정 함수에서 반환 데이터가 tuple 타입일 경우 \n",
    "\n",
    "a, b, c = 1000, 2000, 3000"
   ]
  },
  {
   "cell_type": "code",
   "execution_count": 63,
   "id": "7c6cb04f",
   "metadata": {},
   "outputs": [
    {
     "name": "stdout",
     "output_type": "stream",
     "text": [
      "1000 2000 3000\n"
     ]
    }
   ],
   "source": [
    "print(a, b, c)"
   ]
  },
  {
   "cell_type": "code",
   "execution_count": 66,
   "id": "57f51c6d",
   "metadata": {},
   "outputs": [
    {
     "name": "stdout",
     "output_type": "stream",
     "text": [
      "<class 'dict'>\n",
      "{}\n"
     ]
    }
   ],
   "source": [
    "# 딕셔너리 (key : value) -> key 값으로 데이터 참조\n",
    "# {key1 : value1, key2 : value2, ... }\n",
    "\n",
    "dict_1 = {}\n",
    "print(type(dict_1))\n",
    "print(dict_1)"
   ]
  },
  {
   "cell_type": "code",
   "execution_count": null,
   "id": "e165491a",
   "metadata": {},
   "outputs": [
    {
     "name": "stdout",
     "output_type": "stream",
     "text": [
      "{1: 'a'}\n",
      "<class 'dict'>\n"
     ]
    }
   ],
   "source": [
    "# 최초 정의는 {} 사용\n",
    "\n",
    "dict_2 = {1 : 'a'}\n",
    "print(dict_2)\n",
    "print(type(dict_2))"
   ]
  },
  {
   "cell_type": "code",
   "execution_count": null,
   "id": "92fda2eb",
   "metadata": {},
   "outputs": [
    {
     "data": {
      "text/plain": [
       "{1: 'a', 2: 'b'}"
      ]
     },
     "execution_count": 69,
     "metadata": {},
     "output_type": "execute_result"
    }
   ],
   "source": [
    "# 딕셔너리에 요소 값 추가하기\n",
    "# 키 정의, 값 정의\n",
    "\n",
    "dict_2[2] = 'b'\n",
    "dict_2"
   ]
  },
  {
   "cell_type": "code",
   "execution_count": null,
   "id": "d0371da7",
   "metadata": {},
   "outputs": [
    {
     "data": {
      "text/plain": [
       "'a'"
      ]
     },
     "execution_count": 70,
     "metadata": {},
     "output_type": "execute_result"
    }
   ],
   "source": [
    "# 인덱스가 아닌 키에 대응되는 값을 찾는 것\n",
    "dict_2[1]"
   ]
  },
  {
   "cell_type": "code",
   "execution_count": 74,
   "id": "b4ade94c",
   "metadata": {},
   "outputs": [
    {
     "data": {
      "text/plain": [
       "{1: 'a', 2: 'b', 3: (1, 2, 3)}"
      ]
     },
     "execution_count": 74,
     "metadata": {},
     "output_type": "execute_result"
    }
   ],
   "source": [
    "dict_2[3] = (1, 2, 3)\n",
    "dict_2"
   ]
  },
  {
   "cell_type": "code",
   "execution_count": 75,
   "id": "b80ed09c",
   "metadata": {},
   "outputs": [
    {
     "data": {
      "text/plain": [
       "{1: 'a', 2: 'b'}"
      ]
     },
     "execution_count": 75,
     "metadata": {},
     "output_type": "execute_result"
    }
   ],
   "source": [
    "# 요소 삭제할 때\n",
    "\n",
    "del dict_2[3]\n",
    "dict_2"
   ]
  },
  {
   "cell_type": "code",
   "execution_count": 76,
   "id": "ad849b22",
   "metadata": {},
   "outputs": [
    {
     "data": {
      "text/plain": [
       "{'sno': 1111, 's_name': 'KING', 'grade': 4, 'major': 'COM'}"
      ]
     },
     "execution_count": 76,
     "metadata": {},
     "output_type": "execute_result"
    }
   ],
   "source": [
    "# 데이터의 구조화\n",
    "# 학생 데이터 정의\n",
    "# 이름, 학번, 학년, 학과\n",
    "\n",
    "student_1 = {\n",
    "    'sno' : 1111,\n",
    "    's_name' : 'KING',\n",
    "    'grade' : 4,\n",
    "    'major' : 'COM'\n",
    "}\n",
    "\n",
    "student_1"
   ]
  },
  {
   "cell_type": "code",
   "execution_count": 77,
   "id": "5d88edd8",
   "metadata": {},
   "outputs": [
    {
     "data": {
      "text/plain": [
       "1111"
      ]
     },
     "execution_count": 77,
     "metadata": {},
     "output_type": "execute_result"
    }
   ],
   "source": [
    "student_1['sno']"
   ]
  },
  {
   "cell_type": "code",
   "execution_count": 79,
   "id": "ed0e9050",
   "metadata": {},
   "outputs": [],
   "source": [
    "player = {\n",
    "    'team' : 'TO', \n",
    "    'name' : 'SON', \n",
    "    'number' : 7\n",
    "}"
   ]
  },
  {
   "cell_type": "code",
   "execution_count": 87,
   "id": "eda7b395",
   "metadata": {},
   "outputs": [
    {
     "data": {
      "text/plain": [
       "dict_keys(['team', 'name', 'number'])"
      ]
     },
     "execution_count": 87,
     "metadata": {},
     "output_type": "execute_result"
    }
   ],
   "source": [
    "# 전체 키 반환\n",
    "\n",
    "player.keys()"
   ]
  },
  {
   "cell_type": "code",
   "execution_count": 88,
   "id": "618b9f1a",
   "metadata": {},
   "outputs": [
    {
     "data": {
      "text/plain": [
       "['team', 'name', 'number']"
      ]
     },
     "execution_count": 88,
     "metadata": {},
     "output_type": "execute_result"
    }
   ],
   "source": [
    "list(player.keys()) # 리스트로 반환 가능"
   ]
  },
  {
   "cell_type": "code",
   "execution_count": 89,
   "id": "bb8fc35a",
   "metadata": {},
   "outputs": [
    {
     "data": {
      "text/plain": [
       "['TO', 'SON', 7]"
      ]
     },
     "execution_count": 89,
     "metadata": {},
     "output_type": "execute_result"
    }
   ],
   "source": [
    "# 전체 값 반환, 리스트로 반환 가능\n",
    "\n",
    "player.values()\n",
    "list(player.values())"
   ]
  },
  {
   "cell_type": "code",
   "execution_count": 92,
   "id": "a95b802d",
   "metadata": {},
   "outputs": [
    {
     "name": "stdout",
     "output_type": "stream",
     "text": [
      "True\n",
      "False\n"
     ]
    }
   ],
   "source": [
    "# key 존재하는지 확인\n",
    "\n",
    "print('name' in player)\n",
    "print('age' in player)"
   ]
  },
  {
   "cell_type": "code",
   "execution_count": null,
   "id": "84892d1a",
   "metadata": {},
   "outputs": [
    {
     "data": {
      "text/plain": [
       "dict_items([('team', 'TO'), ('name', 'SON'), ('number', 7)])"
      ]
     },
     "execution_count": 93,
     "metadata": {},
     "output_type": "execute_result"
    }
   ],
   "source": [
    "# 튜플 형식으로 반환\n",
    "\n",
    "player.items()"
   ]
  },
  {
   "cell_type": "code",
   "execution_count": null,
   "id": "aa55f8b5",
   "metadata": {},
   "outputs": [
    {
     "data": {
      "text/plain": [
       "[('team', 'TO'), ('name', 'SON'), ('number', 7)]"
      ]
     },
     "execution_count": 97,
     "metadata": {},
     "output_type": "execute_result"
    }
   ],
   "source": [
    "list_temp = list(player.items())\n",
    "list_temp"
   ]
  },
  {
   "cell_type": "code",
   "execution_count": 101,
   "id": "1c2216e5",
   "metadata": {},
   "outputs": [
    {
     "data": {
      "text/plain": [
       "'SON'"
      ]
     },
     "execution_count": 101,
     "metadata": {},
     "output_type": "execute_result"
    }
   ],
   "source": [
    "player['name']"
   ]
  },
  {
   "cell_type": "code",
   "execution_count": 102,
   "id": "0cb3cb83",
   "metadata": {},
   "outputs": [
    {
     "data": {
      "text/plain": [
       "'SON'"
      ]
     },
     "execution_count": 102,
     "metadata": {},
     "output_type": "execute_result"
    }
   ],
   "source": [
    "player.get('name')"
   ]
  },
  {
   "cell_type": "code",
   "execution_count": null,
   "id": "d47847ba",
   "metadata": {},
   "outputs": [
    {
     "name": "stdout",
     "output_type": "stream",
     "text": [
      "None\n"
     ]
    }
   ],
   "source": [
    "# 오류가 뜨지는 않지만 값 반환을 하지 않음 -> None\n",
    "\n",
    "pos = player.get('pos')\n",
    "print(pos)"
   ]
  },
  {
   "cell_type": "code",
   "execution_count": 108,
   "id": "a8e24d55",
   "metadata": {},
   "outputs": [
    {
     "name": "stdout",
     "output_type": "stream",
     "text": [
      "no pos\n"
     ]
    }
   ],
   "source": [
    "pos1 = player.get('pos', 'no pos')\n",
    "print(pos1)"
   ]
  },
  {
   "cell_type": "code",
   "execution_count": 109,
   "id": "466a16c4",
   "metadata": {},
   "outputs": [
    {
     "data": {
      "text/plain": [
       "{1, 2, 3, 4, 5}"
      ]
     },
     "execution_count": 109,
     "metadata": {},
     "output_type": "execute_result"
    }
   ],
   "source": [
    "# set (집합) -> 중복 불가, 순서 없음, 집합 연산 가능\n",
    "\n",
    "s_1 = set([1, 2, 3, 4, 1, 2, 5])\n",
    "s_1"
   ]
  },
  {
   "cell_type": "code",
   "execution_count": 110,
   "id": "a2d143e9",
   "metadata": {},
   "outputs": [
    {
     "data": {
      "text/plain": [
       "{'e', 'h', 'l', 'o'}"
      ]
     },
     "execution_count": 110,
     "metadata": {},
     "output_type": "execute_result"
    }
   ],
   "source": [
    "s_2 = set('hello')\n",
    "s_2"
   ]
  },
  {
   "cell_type": "code",
   "execution_count": null,
   "id": "8940f8f9",
   "metadata": {},
   "outputs": [
    {
     "data": {
      "text/plain": [
       "[1, 2, 3, 4, 5]"
      ]
     },
     "execution_count": 111,
     "metadata": {},
     "output_type": "execute_result"
    }
   ],
   "source": [
    "# 집합 -> 리스트 형 변환\n",
    "\n",
    "list_1 = list(s_1)\n",
    "list_1"
   ]
  },
  {
   "cell_type": "code",
   "execution_count": 112,
   "id": "25c581bc",
   "metadata": {},
   "outputs": [],
   "source": [
    "# 집합 연산\n",
    "\n",
    "set_2 = set([1, 2, 3, 4, 5, 6])\n",
    "set_3 = set([4, 5, 6, 7, 8, 9])"
   ]
  },
  {
   "cell_type": "code",
   "execution_count": 113,
   "id": "2897d53e",
   "metadata": {},
   "outputs": [
    {
     "name": "stdout",
     "output_type": "stream",
     "text": [
      "{1, 2, 3, 4, 5, 6}\n",
      "{4, 5, 6, 7, 8, 9}\n"
     ]
    }
   ],
   "source": [
    "print(set_2)\n",
    "print(set_3)"
   ]
  },
  {
   "cell_type": "code",
   "execution_count": 114,
   "id": "70af1c1f",
   "metadata": {},
   "outputs": [
    {
     "name": "stdout",
     "output_type": "stream",
     "text": [
      "{4, 5, 6}\n",
      "{1, 2, 3, 4, 5, 6, 7, 8, 9}\n",
      "{1, 2, 3}\n"
     ]
    }
   ],
   "source": [
    "print(set_2 & set_3)\n",
    "print(set_2 | set_3)\n",
    "print(set_2 - set_3)"
   ]
  },
  {
   "cell_type": "code",
   "execution_count": null,
   "id": "df5c525a",
   "metadata": {},
   "outputs": [
    {
     "data": {
      "text/plain": [
       "{1, 2, 3, 4, 5, 6, 7}"
      ]
     },
     "execution_count": 115,
     "metadata": {},
     "output_type": "execute_result"
    }
   ],
   "source": [
    "# set에서 데이터 변경\n",
    "\n",
    "# 추가 (중복인 입력되지 않음)\n",
    "set_2.add(7)\n",
    "set_2"
   ]
  },
  {
   "cell_type": "code",
   "execution_count": null,
   "id": "c2931054",
   "metadata": {},
   "outputs": [
    {
     "data": {
      "text/plain": [
       "{1, 2, 3, 4, 5, 6}"
      ]
     },
     "execution_count": 116,
     "metadata": {},
     "output_type": "execute_result"
    }
   ],
   "source": [
    "# 삭제\n",
    "set_2.remove(7)\n",
    "set_2"
   ]
  },
  {
   "cell_type": "code",
   "execution_count": null,
   "id": "d9a3b9e1",
   "metadata": {},
   "outputs": [
    {
     "data": {
      "text/plain": [
       "{1, 2, 3, 4, 5, 6, 7, 8}"
      ]
     },
     "execution_count": 117,
     "metadata": {},
     "output_type": "execute_result"
    }
   ],
   "source": [
    "# 한 번에 여러 개 추가 (업데이트)\n",
    "set_2.update([1, 1, 3, 4, 7, 8])\n",
    "set_2"
   ]
  },
  {
   "cell_type": "code",
   "execution_count": 120,
   "id": "4866d767",
   "metadata": {},
   "outputs": [
    {
     "name": "stdout",
     "output_type": "stream",
     "text": [
      "불가능..\n"
     ]
    }
   ],
   "source": [
    "# if: 분기 \n",
    "# e.g. 성인이라면 성인이 아니라면\n",
    "\n",
    "age = 15\n",
    "\n",
    "if age >= 18:\n",
    "    print('환영합니다')\n",
    "    print('게임을 시작하세요!')\n",
    "else:\n",
    "    print('불가능..')"
   ]
  },
  {
   "cell_type": "code",
   "execution_count": null,
   "id": "2bf51b4b",
   "metadata": {},
   "outputs": [
    {
     "name": "stdout",
     "output_type": "stream",
     "text": [
      "홀수\n"
     ]
    }
   ],
   "source": [
    "# 조건식을 만드는 것이 가장 중요!!!!!!!!!!!!!!!!!!!!\n",
    "# 홀수 짝수 판단\n",
    "\n",
    "num = 11\n",
    "\n",
    "if num % 2 == 0 :\n",
    "    print('짝수')\n",
    "else :\n",
    "    print('홀수')"
   ]
  },
  {
   "cell_type": "code",
   "execution_count": 127,
   "id": "72f2c978",
   "metadata": {},
   "outputs": [
    {
     "name": "stdout",
     "output_type": "stream",
     "text": [
      "0\n"
     ]
    }
   ],
   "source": [
    "# 양수 음수 0 판단\n",
    "\n",
    "num1 = 0\n",
    "\n",
    "if num1 > 0:\n",
    "    print('양수')\n",
    "elif num1 < 0:\n",
    "    print('음수')\n",
    "else:\n",
    "    print(0)"
   ]
  },
  {
   "cell_type": "code",
   "execution_count": null,
   "id": "c6f25637",
   "metadata": {},
   "outputs": [
    {
     "name": "stdout",
     "output_type": "stream",
     "text": [
      "FAIL\n"
     ]
    }
   ],
   "source": [
    "# 조건부 표현식\n",
    "# 운전 면허 시험\n",
    "\n",
    "score = 79\n",
    "check_msg = 'PASS' if score >= 80 else 'FAIL'\n",
    "print(check_msg)"
   ]
  },
  {
   "cell_type": "code",
   "execution_count": 130,
   "id": "cea4a1b8",
   "metadata": {},
   "outputs": [
    {
     "name": "stdout",
     "output_type": "stream",
     "text": [
      "이망빙 <class 'str'>\n"
     ]
    }
   ],
   "source": [
    "# 표준 출력 함수 -> print()\n",
    "# 표준 입력 함수 -> input()\n",
    "\n",
    "user_name = input('이름을 입력하세요!')\n",
    "print(user_name, type(user_name))"
   ]
  },
  {
   "cell_type": "code",
   "execution_count": null,
   "id": "a09f2498",
   "metadata": {},
   "outputs": [
    {
     "name": "stdout",
     "output_type": "stream",
     "text": [
      "무료 예방 접종이 가능합니다!\n"
     ]
    }
   ],
   "source": [
    "age = int(input('나이를 입력하세요!'))\n",
    "\n",
    "if age < 15 or age >= 65:\n",
    "    print('무료 예방 접종이 가능합니다!')\n",
    "else:\n",
    "    print('무료 접종 대상자가 아닙니다.')"
   ]
  },
  {
   "cell_type": "code",
   "execution_count": 138,
   "id": "66d2c4a3",
   "metadata": {},
   "outputs": [
    {
     "name": "stdout",
     "output_type": "stream",
     "text": [
      "대상자 아님\n"
     ]
    }
   ],
   "source": [
    "age = int(input('나이를 입력하세요!'))\n",
    "\n",
    "medical_msg = '무료 접종 대상자' if age < 15 or age >= 65 else '대상자 아님'\n",
    "print(medical_msg)"
   ]
  },
  {
   "cell_type": "code",
   "execution_count": 139,
   "id": "fd9cb0fe",
   "metadata": {},
   "outputs": [
    {
     "name": "stdout",
     "output_type": "stream",
     "text": [
      "1\n",
      "3\n",
      "5\n",
      "7\n",
      "9\n"
     ]
    }
   ],
   "source": [
    "# while 문은 탈출이 가능해야 함!!!!!!\n",
    "# 1부터 10까지 홀수만 출력\n",
    "\n",
    "cnt = 0\n",
    "\n",
    "while cnt < 10:\n",
    "    cnt += 1\n",
    "\n",
    "    if cnt % 2 == 1:\n",
    "        print(cnt)"
   ]
  },
  {
   "cell_type": "code",
   "execution_count": null,
   "id": "a0a29949",
   "metadata": {},
   "outputs": [
    {
     "name": "stdout",
     "output_type": "stream",
     "text": [
      "1\n",
      "3\n",
      "5\n",
      "7\n",
      "9\n"
     ]
    }
   ],
   "source": [
    "# continue 활용\n",
    "\n",
    "cnt = 0\n",
    "\n",
    "while cnt < 10:\n",
    "    cnt += 1\n",
    "\n",
    "    if cnt % 2 == 0:\n",
    "        continue\n",
    "    \n",
    "    print(cnt)"
   ]
  },
  {
   "cell_type": "code",
   "execution_count": 141,
   "id": "7cb4842a",
   "metadata": {},
   "outputs": [],
   "source": [
    "list_a = [1, 2, 3, 4, 5, 100, 200, 300]"
   ]
  },
  {
   "cell_type": "code",
   "execution_count": 142,
   "id": "62ba5831",
   "metadata": {},
   "outputs": [
    {
     "name": "stdout",
     "output_type": "stream",
     "text": [
      "1\n",
      "2\n",
      "3\n",
      "4\n",
      "5\n",
      "100\n",
      "200\n",
      "300\n"
     ]
    }
   ],
   "source": [
    "for i in list_a:\n",
    "    print(i)"
   ]
  },
  {
   "cell_type": "code",
   "execution_count": 143,
   "id": "bfe71a3d",
   "metadata": {},
   "outputs": [],
   "source": [
    "list_b = [(1, 2), (3, 4), (5, 6)]"
   ]
  },
  {
   "cell_type": "code",
   "execution_count": 144,
   "id": "15201bbd",
   "metadata": {},
   "outputs": [
    {
     "name": "stdout",
     "output_type": "stream",
     "text": [
      "1 2\n",
      "3 4\n",
      "5 6\n"
     ]
    }
   ],
   "source": [
    "for n1, n2 in list_b:\n",
    "    print(n1, n2)"
   ]
  },
  {
   "cell_type": "code",
   "execution_count": 155,
   "id": "cb367fa9",
   "metadata": {},
   "outputs": [
    {
     "name": "stdout",
     "output_type": "stream",
     "text": [
      "80\n",
      "50\n",
      "70\n",
      "100\n",
      "55\n"
     ]
    }
   ],
   "source": [
    "# 5명의 학생의 영어 성적 60점 이상 pass 출력\n",
    "# 5명 영어 점수 총점과 평균\n",
    "\n",
    "scores = [80, 50, 70, 100, 55]\n",
    "num = 0 # 학생들의 일련 번호 \n",
    "sum = 0\n",
    "\n",
    "for score in scores:\n",
    "    print(score)"
   ]
  },
  {
   "cell_type": "code",
   "execution_count": null,
   "id": "29f495bb",
   "metadata": {},
   "outputs": [
    {
     "name": "stdout",
     "output_type": "stream",
     "text": [
      "1 80 PASS\n",
      "2 50 FAIL\n",
      "3 70 PASS\n",
      "4 100 PASS\n",
      "5 55 FAIL\n",
      "총점:  355\n",
      "평균:  71.0\n"
     ]
    }
   ],
   "source": [
    "for score in scores:\n",
    "    num = num + 1\n",
    "    sum = sum + score\n",
    "\n",
    "    if score >= 60:\n",
    "        print(num, score, 'PASS')\n",
    "    else:\n",
    "         print(num, score, 'FAIL')\n",
    "\n",
    "print('총점: ', sum)\n",
    "print('평균: ', sum/len(scores))"
   ]
  },
  {
   "cell_type": "code",
   "execution_count": null,
   "id": "1bb07560",
   "metadata": {},
   "outputs": [
    {
     "name": "stdout",
     "output_type": "stream",
     "text": [
      "0, 1, 2, 3, 4, 5, 6, 7, 8, 9, "
     ]
    }
   ],
   "source": [
    "# range 함수 -> 일련 번호 생성 함수\n",
    "\n",
    "nums_1 = range(10)\n",
    "\n",
    "for num in nums_1:\n",
    "    print(num, end= ', ')"
   ]
  },
  {
   "cell_type": "code",
   "execution_count": 159,
   "id": "890f91fc",
   "metadata": {},
   "outputs": [
    {
     "name": "stdout",
     "output_type": "stream",
     "text": [
      "3 4 5 6 7 "
     ]
    }
   ],
   "source": [
    "for num in range(3, 8):\n",
    "    print(num, end=' ')"
   ]
  },
  {
   "cell_type": "code",
   "execution_count": 161,
   "id": "c5715c21",
   "metadata": {},
   "outputs": [
    {
     "name": "stdout",
     "output_type": "stream",
     "text": [
      "1 3 5 7 9 "
     ]
    }
   ],
   "source": [
    "for num in range(1, 11, 2):\n",
    "    print(num, end=' ')"
   ]
  },
  {
   "cell_type": "code",
   "execution_count": 175,
   "id": "c73167c2",
   "metadata": {},
   "outputs": [
    {
     "name": "stdout",
     "output_type": "stream",
     "text": [
      "2 단\n",
      "2X1=2 2X2=4 2X3=6 2X4=8 2X5=10 2X6=12 2X7=14 2X8=16 2X9=18 \n",
      "\n",
      "3 단\n",
      "3X1=3 3X2=6 3X3=9 3X4=12 3X5=15 3X6=18 3X7=21 3X8=24 3X9=27 \n",
      "\n",
      "4 단\n",
      "4X1=4 4X2=8 4X3=12 4X4=16 4X5=20 4X6=24 4X7=28 4X8=32 4X9=36 \n",
      "\n",
      "5 단\n",
      "5X1=5 5X2=10 5X3=15 5X4=20 5X5=25 5X6=30 5X7=35 5X8=40 5X9=45 \n",
      "\n",
      "6 단\n",
      "6X1=6 6X2=12 6X3=18 6X4=24 6X5=30 6X6=36 6X7=42 6X8=48 6X9=54 \n",
      "\n",
      "7 단\n",
      "7X1=7 7X2=14 7X3=21 7X4=28 7X5=35 7X6=42 7X7=49 7X8=56 7X9=63 \n",
      "\n",
      "8 단\n",
      "8X1=8 8X2=16 8X3=24 8X4=32 8X5=40 8X6=48 8X7=56 8X8=64 8X9=72 \n",
      "\n",
      "9 단\n",
      "9X1=9 9X2=18 9X3=27 9X4=36 9X5=45 9X6=54 9X7=63 9X8=72 9X9=81 \n",
      "\n"
     ]
    }
   ],
   "source": [
    "# 구구단 2~9단 \n",
    "\n",
    "for i in range(2, 10):\n",
    "    print(f'{i} 단')\n",
    "    for j in range(1, 10):\n",
    "        print(f'{i}X{j}={i*j}', end=' ')\n",
    "    print()\n",
    "    print()"
   ]
  },
  {
   "cell_type": "code",
   "execution_count": 178,
   "id": "4ae4b022",
   "metadata": {},
   "outputs": [
    {
     "name": "stdout",
     "output_type": "stream",
     "text": [
      "[3, 6, 9, 12]\n"
     ]
    }
   ],
   "source": [
    "# 리스트 컴프리헨션 \n",
    "# [표현식 for 변수 in list if 조건식(변수)]\n",
    "\n",
    "list_2 = [1, 2, 3, 4]\n",
    "\n",
    "# 결과 리스트\n",
    "list_result = []\n",
    "\n",
    "for num in list_2:\n",
    "    list_result.append(num*3)\n",
    "\n",
    "print(list_result)\n"
   ]
  },
  {
   "cell_type": "code",
   "execution_count": 180,
   "id": "59449802",
   "metadata": {},
   "outputs": [
    {
     "name": "stdout",
     "output_type": "stream",
     "text": [
      "[3, 9]\n"
     ]
    }
   ],
   "source": [
    "list_result_1 = [num * 3 for num in list_2 if num % 2 == 1]\n",
    "print(list_result_1)"
   ]
  },
  {
   "cell_type": "code",
   "execution_count": 1,
   "id": "941be8e8",
   "metadata": {},
   "outputs": [
    {
     "name": "stdout",
     "output_type": "stream",
     "text": [
      "무료 건강 검진 대상자입니다\n",
      "무료 암 검사 대상자입니다\n"
     ]
    }
   ],
   "source": [
    "# 예제 조건문 4번\n",
    "\n",
    "this_year = 2025\n",
    "birth_year = int(input('출생년도를 입력하세요!'))\n",
    "\n",
    "age = this_year - birth_year\n",
    "\n",
    "if age >= 20 and (birth_year % 2 == this_year % 2 ):\n",
    "    print('무료 건강 검진 대상자입니다')\n",
    "\n",
    "    if age >= 40:\n",
    "        print('무료 암 검사 대상자입니다')\n",
    "else:\n",
    "    print('무료 건강 검진 대상자가 아닙니다')\n"
   ]
  },
  {
   "cell_type": "code",
   "execution_count": 196,
   "id": "f0e7aeaa",
   "metadata": {},
   "outputs": [
    {
     "name": "stdout",
     "output_type": "stream",
     "text": [
      "5050\n"
     ]
    }
   ],
   "source": [
    "# 예제 반복문 1번\n",
    "\n",
    "sum = 0\n",
    "num = 1\n",
    "\n",
    "while num <= 100:\n",
    "    sum += num\n",
    "    num += 1\n",
    "print(sum)\n"
   ]
  },
  {
   "cell_type": "code",
   "execution_count": 200,
   "id": "0eb44f0c",
   "metadata": {},
   "outputs": [
    {
     "name": "stdout",
     "output_type": "stream",
     "text": [
      "3628800\n"
     ]
    }
   ],
   "source": [
    "# 예제 반복문 2번\n",
    "\n",
    "result = 1\n",
    "\n",
    "for i in range(1, 11):\n",
    "    result *= i\n",
    "\n",
    "print(result)"
   ]
  },
  {
   "cell_type": "code",
   "execution_count": 206,
   "id": "f607579a",
   "metadata": {},
   "outputs": [
    {
     "name": "stdout",
     "output_type": "stream",
     "text": [
      "2X1=2 2X2=4 \n",
      "4X1=4 4X2=8 4X3=12 4X4=16 \n",
      "6X1=6 6X2=12 6X3=18 6X4=24 6X5=30 6X6=36 \n",
      "8X1=8 8X2=16 8X3=24 8X4=32 8X5=40 8X6=48 8X7=56 8X8=64 \n"
     ]
    }
   ],
   "source": [
    "# 예제 반복문 3번\n",
    "\n",
    "for i in range(2, 9, 2):\n",
    "    for j in range(1, 9):\n",
    "        if j <= i:\n",
    "            print(f'{i}X{j}={i*j}', end=' ')\n",
    "    print()\n"
   ]
  },
  {
   "cell_type": "code",
   "execution_count": 191,
   "id": "c073f95b",
   "metadata": {},
   "outputs": [
    {
     "name": "stdout",
     "output_type": "stream",
     "text": [
      "1055\n"
     ]
    }
   ],
   "source": [
    "# 예제 반복문 4번\n",
    "\n",
    "cnt = 0\n",
    "sum = 0\n",
    "\n",
    "while True:\n",
    "    \n",
    "    cnt += 1\n",
    "\n",
    "    if cnt % 2 == 0 or cnt % 3 == 0:\n",
    "        sum += cnt\n",
    "\n",
    "        if sum > 1000:\n",
    "            print(sum)\n",
    "            break\n"
   ]
  },
  {
   "cell_type": "code",
   "execution_count": null,
   "id": "4eeeb7a8",
   "metadata": {},
   "outputs": [],
   "source": [
    "# 함수\n",
    "# 데이터를 받고 처리하고 결과를 반환하는 코드들의 묶음\n",
    "# 호출을 통해 실행\n",
    "# 중복 코드를 줄일 수 있다 -> 유지 보수 및 관리가 수월해짐 \n",
    "\n",
    "# def 함수 이름 (매개변수, ... ):\n",
    "#    처리 작업 코드들\n",
    "#    ...\n",
    "#   return 값 (data -> 파이썬에서 제공하는 타입의 모든 데이터)\n",
    "\n",
    "# 매개변수와 반환은 선택 사항"
   ]
  },
  {
   "cell_type": "code",
   "execution_count": 2,
   "id": "bda01455",
   "metadata": {},
   "outputs": [],
   "source": [
    "# 함수 정의\n",
    "# 숫자 2개(매개변수)를 받아 덧셈 연산(내부 처리 작업)을 하고 결과 값 (반환 값) 반환\n",
    "\n",
    "def add(n1, n2):\n",
    "    result = n1 + n2\n",
    "    return result"
   ]
  },
  {
   "cell_type": "code",
   "execution_count": null,
   "id": "4d48be6a",
   "metadata": {},
   "outputs": [
    {
     "data": {
      "text/plain": [
       "30"
      ]
     },
     "execution_count": 3,
     "metadata": {},
     "output_type": "execute_result"
    }
   ],
   "source": [
    "add(10, 20) # 매개변수 없이 호출하려고 하면 에러가 발생함"
   ]
  },
  {
   "cell_type": "code",
   "execution_count": 5,
   "id": "ede3ee32",
   "metadata": {},
   "outputs": [
    {
     "name": "stdout",
     "output_type": "stream",
     "text": [
      "<class 'function'>\n"
     ]
    }
   ],
   "source": [
    "print(type(add))"
   ]
  },
  {
   "cell_type": "code",
   "execution_count": 6,
   "id": "0e8ee11f",
   "metadata": {},
   "outputs": [],
   "source": [
    "# 매개변수가 없는 함수\n",
    "\n",
    "def alert_msg():\n",
    "    return '안녕하세요'"
   ]
  },
  {
   "cell_type": "code",
   "execution_count": 7,
   "id": "88ce509a",
   "metadata": {},
   "outputs": [
    {
     "data": {
      "text/plain": [
       "'안녕하세요'"
      ]
     },
     "execution_count": 7,
     "metadata": {},
     "output_type": "execute_result"
    }
   ],
   "source": [
    "alert_msg()"
   ]
  },
  {
   "cell_type": "code",
   "execution_count": 12,
   "id": "4ef04c73",
   "metadata": {},
   "outputs": [],
   "source": [
    "# 매개변수는 있고 반환 값이 없는 함수\n",
    "# 숫자 2개를 받아 덧셈 연산을 하고 결과를 출력하는 함수\n",
    "\n",
    "def add_print(n1, n2):\n",
    "    result = n1 + n2\n",
    "    print(f'{n1}+{n2}={n1+n2}')"
   ]
  },
  {
   "cell_type": "code",
   "execution_count": 13,
   "id": "b2e4c97f",
   "metadata": {},
   "outputs": [
    {
     "name": "stdout",
     "output_type": "stream",
     "text": [
      "10+20=30\n"
     ]
    }
   ],
   "source": [
    "add_print(10, 20)"
   ]
  },
  {
   "cell_type": "code",
   "execution_count": 14,
   "id": "bbf35fb0",
   "metadata": {},
   "outputs": [
    {
     "name": "stdout",
     "output_type": "stream",
     "text": [
      "10+200=210\n"
     ]
    }
   ],
   "source": [
    "result_add_print = add_print(10, 200)"
   ]
  },
  {
   "cell_type": "code",
   "execution_count": null,
   "id": "13231efa",
   "metadata": {},
   "outputs": [
    {
     "name": "stdout",
     "output_type": "stream",
     "text": [
      "None\n"
     ]
    }
   ],
   "source": [
    "print(result_add_print) # 출력만 하고 반환 값이 없기 때문에 None"
   ]
  },
  {
   "cell_type": "code",
   "execution_count": 16,
   "id": "7a2698e4",
   "metadata": {},
   "outputs": [],
   "source": [
    "# 매개변수도 없고 반환 값도 없는 함수\n",
    "\n",
    "def display_menu():\n",
    "    menu = '''\n",
    "1. 아메리카노\n",
    "2. 라떼\n",
    "3. 에스프레소\n",
    "'''\n",
    "    print(menu)"
   ]
  },
  {
   "cell_type": "code",
   "execution_count": 17,
   "id": "3c8d8c19",
   "metadata": {},
   "outputs": [
    {
     "name": "stdout",
     "output_type": "stream",
     "text": [
      "\n",
      "1. 아메리카노\n",
      "2. 라떼\n",
      "3. 에스프레소\n",
      "\n"
     ]
    }
   ],
   "source": [
    "display_menu()"
   ]
  },
  {
   "cell_type": "code",
   "execution_count": 18,
   "id": "380a4c2d",
   "metadata": {},
   "outputs": [
    {
     "name": "stdout",
     "output_type": "stream",
     "text": [
      "king\n",
      "1 2 3 4 5\n"
     ]
    }
   ],
   "source": [
    "# 매개변수가 여러 개인데 몇 개인지 모를 때\n",
    "\n",
    "print('king')\n",
    "print(1, 2, 3, 4, 5)"
   ]
  },
  {
   "cell_type": "code",
   "execution_count": 25,
   "id": "95fea253",
   "metadata": {},
   "outputs": [],
   "source": [
    "# 매개변수에서 전달되는 숫자들(몇 개?)을 모두 더한 값 반환 함수\n",
    "\n",
    "def add_sum(*args):\n",
    "    print(type(args))\n",
    "    print(args)\n",
    "    sum = 0\n",
    "    for num in args:\n",
    "        sum += num\n",
    "    return sum"
   ]
  },
  {
   "cell_type": "code",
   "execution_count": 27,
   "id": "9781e6c5",
   "metadata": {},
   "outputs": [
    {
     "name": "stdout",
     "output_type": "stream",
     "text": [
      "<class 'tuple'>\n",
      "(1, 2, 3, 4, 5, 6, 7, 8, 9, 10)\n"
     ]
    },
    {
     "data": {
      "text/plain": [
       "55"
      ]
     },
     "execution_count": 27,
     "metadata": {},
     "output_type": "execute_result"
    }
   ],
   "source": [
    "add_sum(1, 2, 3, 4, 5, 6, 7, 8, 9, 10)"
   ]
  },
  {
   "cell_type": "code",
   "execution_count": 3,
   "id": "eaba93b2",
   "metadata": {},
   "outputs": [],
   "source": [
    "# 연산의 타입을 전달받고 전달되는 숫자들의 연산 결과 반환 함수\n",
    "# 가변 매개변수가 몇 개인지 모르기 때문에 가장 마지막에 넣어야 됨\n",
    "\n",
    "def add_type(type, *args):\n",
    "    if type == 'add':\n",
    "        result = 0\n",
    "        for num in args:\n",
    "            result += num\n",
    "        return result\n",
    "    \n",
    "    elif type == 'mul':\n",
    "        result = 1\n",
    "        for num in args:\n",
    "            result *= num\n",
    "        return result\n",
    "    \n",
    "    else:\n",
    "        print('사용 가능한 타입을 입력해 주세요')"
   ]
  },
  {
   "cell_type": "code",
   "execution_count": 4,
   "id": "e101cc94",
   "metadata": {},
   "outputs": [
    {
     "name": "stdout",
     "output_type": "stream",
     "text": [
      "15\n",
      "120\n",
      "사용 가능한 타입을 입력해 주세요\n"
     ]
    }
   ],
   "source": [
    "print(add_type('add', 1, 2, 3, 4, 5))\n",
    "print(add_type('mul', 1, 2, 3, 4, 5))\n",
    "add_type(1, 2, 3, 4, 5)"
   ]
  },
  {
   "cell_type": "code",
   "execution_count": 5,
   "id": "3c6baddb",
   "metadata": {},
   "outputs": [],
   "source": [
    "# 키워드 매개변수\n",
    "\n",
    "def print_args(**args):\n",
    "    print(args)\n",
    "    print(type(args))"
   ]
  },
  {
   "cell_type": "code",
   "execution_count": 6,
   "id": "567fd3fc",
   "metadata": {},
   "outputs": [
    {
     "name": "stdout",
     "output_type": "stream",
     "text": [
      "{'name': '이망빙', 'age': 1}\n",
      "<class 'dict'>\n"
     ]
    }
   ],
   "source": [
    "print_args(name='이망빙', age=1)"
   ]
  },
  {
   "cell_type": "code",
   "execution_count": 7,
   "id": "83386e49",
   "metadata": {},
   "outputs": [],
   "source": [
    "player1 = {\n",
    "    'name': '이차코',\n",
    "    'age' : 7\n",
    "}"
   ]
  },
  {
   "cell_type": "code",
   "execution_count": 9,
   "id": "c4aac5c5",
   "metadata": {},
   "outputs": [],
   "source": [
    "def add_mul_return(n1, n2):\n",
    "    add_result = n1 + n2\n",
    "    mul_result = n1 * n2\n",
    "    return(add_result, mul_result)"
   ]
  },
  {
   "cell_type": "code",
   "execution_count": 10,
   "id": "d767163d",
   "metadata": {},
   "outputs": [
    {
     "name": "stdout",
     "output_type": "stream",
     "text": [
      "30 200\n"
     ]
    }
   ],
   "source": [
    "result1, result2 = add_mul_return(10, 20)\n",
    "print(result1, result2)"
   ]
  },
  {
   "cell_type": "code",
   "execution_count": 11,
   "id": "41b18d04",
   "metadata": {},
   "outputs": [],
   "source": [
    "# 매개변수의 기본값 설정\n",
    "\n",
    "def add2(n1 = 0, n2 = 0):\n",
    "    return n1 + n2"
   ]
  },
  {
   "cell_type": "code",
   "execution_count": 16,
   "id": "6e029344",
   "metadata": {},
   "outputs": [
    {
     "data": {
      "text/plain": [
       "0"
      ]
     },
     "execution_count": 16,
     "metadata": {},
     "output_type": "execute_result"
    }
   ],
   "source": [
    "add2()"
   ]
  },
  {
   "cell_type": "code",
   "execution_count": null,
   "id": "f797e03d",
   "metadata": {},
   "outputs": [],
   "source": [
    "# 이름 나이 성별 받아 출력하는 함수\n",
    "\n",
    "def say_hi(name, age, gender=True): # Gender True -> 여성\n",
    "    print(f'안녕하세요 저는 {name}입니다 나이는 {age}입니다')\n",
    "    if gender:\n",
    "        print('여성입니다')\n",
    "    else:\n",
    "        print('남성입니다')"
   ]
  },
  {
   "cell_type": "code",
   "execution_count": 19,
   "id": "5b577549",
   "metadata": {},
   "outputs": [
    {
     "name": "stdout",
     "output_type": "stream",
     "text": [
      "안녕하세요 저는 king입니다 나이는 20입니다\n",
      "남성입니다\n"
     ]
    }
   ],
   "source": [
    "say_hi('king', 20, False)"
   ]
  },
  {
   "cell_type": "code",
   "execution_count": null,
   "id": "8c355733",
   "metadata": {},
   "outputs": [],
   "source": [
    "# 변수의 사용 범위\n",
    "\n",
    "a = 1\n",
    "\n",
    "def var_test(a):\n",
    "    print('함수 내부의 a: ', a) # 지역 변수 (블록 안에서만 사용)"
   ]
  },
  {
   "cell_type": "code",
   "execution_count": null,
   "id": "5183d288",
   "metadata": {},
   "outputs": [
    {
     "name": "stdout",
     "output_type": "stream",
     "text": [
      "함수 내부의 a:  10\n"
     ]
    }
   ],
   "source": [
    "var_test(10)"
   ]
  },
  {
   "cell_type": "code",
   "execution_count": 25,
   "id": "da081d31",
   "metadata": {},
   "outputs": [
    {
     "name": "stdout",
     "output_type": "stream",
     "text": [
      "1\n"
     ]
    }
   ],
   "source": [
    "print(a)"
   ]
  },
  {
   "cell_type": "code",
   "execution_count": 26,
   "id": "7ee24e20",
   "metadata": {},
   "outputs": [],
   "source": [
    "def var_test2():\n",
    "    global a\n",
    "    a = a + 1\n",
    "    print(a)"
   ]
  },
  {
   "cell_type": "code",
   "execution_count": 27,
   "id": "acc026bb",
   "metadata": {},
   "outputs": [
    {
     "name": "stdout",
     "output_type": "stream",
     "text": [
      "2\n"
     ]
    }
   ],
   "source": [
    "var_test2()"
   ]
  },
  {
   "cell_type": "code",
   "execution_count": 28,
   "id": "ecdea273",
   "metadata": {},
   "outputs": [],
   "source": [
    "# lambda 예약어 (함수를 한 줄로 간결하게 만들 때 사용하는 표현식)\n",
    "# 함수 이름 = lambda arg1, arg2, ...: 연산\n",
    "\n",
    "add3 = lambda n1, n2: n1+n2"
   ]
  },
  {
   "cell_type": "code",
   "execution_count": 30,
   "id": "5fd38ebf",
   "metadata": {},
   "outputs": [
    {
     "data": {
      "text/plain": [
       "110"
      ]
     },
     "execution_count": 30,
     "metadata": {},
     "output_type": "execute_result"
    }
   ],
   "source": [
    "add3(100, 10)"
   ]
  },
  {
   "cell_type": "code",
   "execution_count": null,
   "id": "6d73c9f5",
   "metadata": {},
   "outputs": [
    {
     "data": {
      "text/plain": [
       "function"
      ]
     },
     "execution_count": 31,
     "metadata": {},
     "output_type": "execute_result"
    }
   ],
   "source": [
    "type(add3) # 함수임!!"
   ]
  },
  {
   "cell_type": "code",
   "execution_count": 32,
   "id": "d43808fc",
   "metadata": {},
   "outputs": [],
   "source": [
    "# 내장 함수 -> 기본 제공 함수\n",
    "\n",
    "st_names = ['king', 'cool', 'hot', 'cute']"
   ]
  },
  {
   "cell_type": "code",
   "execution_count": 33,
   "id": "75efe973",
   "metadata": {},
   "outputs": [
    {
     "name": "stdout",
     "output_type": "stream",
     "text": [
      "0 king\n",
      "1 cool\n",
      "2 hot\n",
      "3 cute\n"
     ]
    }
   ],
   "source": [
    "# 학생들의 인덱스 값을 함께 출력\n",
    "\n",
    "num = 0\n",
    "\n",
    "for name in st_names:\n",
    "    print(num, name)\n",
    "    num += 1"
   ]
  },
  {
   "cell_type": "code",
   "execution_count": 35,
   "id": "c521e509",
   "metadata": {},
   "outputs": [
    {
     "name": "stdout",
     "output_type": "stream",
     "text": [
      "1 king\n",
      "2 cool\n",
      "3 hot\n",
      "4 cute\n"
     ]
    }
   ],
   "source": [
    "for index, name in enumerate(st_names, start = 1):\n",
    "    print(index, name)"
   ]
  },
  {
   "cell_type": "code",
   "execution_count": 36,
   "id": "73e80ce2",
   "metadata": {},
   "outputs": [],
   "source": [
    "# filter -> 필터링을 통해 새로운 리스트를 생성 반환하는 함수\n",
    "# filter(fn, itr)\n",
    "\n",
    "def positive(l):\n",
    "    result = []\n",
    "    for n in l:\n",
    "        if n > 0:\n",
    "            result.append(n)\n",
    "    return result"
   ]
  },
  {
   "cell_type": "code",
   "execution_count": 37,
   "id": "2314bafa",
   "metadata": {},
   "outputs": [
    {
     "data": {
      "text/plain": [
       "[3, 1, 9, 10, 4]"
      ]
     },
     "execution_count": 37,
     "metadata": {},
     "output_type": "execute_result"
    }
   ],
   "source": [
    "positive([3, 1, -1, -3, 0, 9, 10, 4])"
   ]
  },
  {
   "cell_type": "code",
   "execution_count": 38,
   "id": "c88c3c6e",
   "metadata": {},
   "outputs": [],
   "source": [
    "# filter 판별 함수\n",
    "\n",
    "def positive_fn(a):\n",
    "    return a > 0"
   ]
  },
  {
   "cell_type": "code",
   "execution_count": 40,
   "id": "ec0ec2bb",
   "metadata": {},
   "outputs": [
    {
     "data": {
      "text/plain": [
       "[3, 1, 9, 10, 4]"
      ]
     },
     "execution_count": 40,
     "metadata": {},
     "output_type": "execute_result"
    }
   ],
   "source": [
    "list(filter(positive_fn, [3, 1, -1, -3, 0, 9, 10, 4]))"
   ]
  },
  {
   "cell_type": "code",
   "execution_count": 41,
   "id": "4e47a0cf",
   "metadata": {},
   "outputs": [],
   "source": [
    "def pos_fn2(a):\n",
    "    return a % 2 == 1"
   ]
  },
  {
   "cell_type": "code",
   "execution_count": 43,
   "id": "a7a612d6",
   "metadata": {},
   "outputs": [
    {
     "data": {
      "text/plain": [
       "[3, 1, -1, -3, 9]"
      ]
     },
     "execution_count": 43,
     "metadata": {},
     "output_type": "execute_result"
    }
   ],
   "source": [
    "list(filter(pos_fn2, [3, 1, -1, -3, 0, 9, 10, 4]))"
   ]
  },
  {
   "cell_type": "code",
   "execution_count": 44,
   "id": "5b49cd72",
   "metadata": {},
   "outputs": [
    {
     "data": {
      "text/plain": [
       "[3, 1, 9, 10, 4]"
      ]
     },
     "execution_count": 44,
     "metadata": {},
     "output_type": "execute_result"
    }
   ],
   "source": [
    "list(filter(lambda x: x > 0, [3, 1, -1, -3, 0, 9, 10, 4]))"
   ]
  },
  {
   "cell_type": "code",
   "execution_count": 46,
   "id": "3a76df1c",
   "metadata": {},
   "outputs": [
    {
     "data": {
      "text/plain": [
       "[2, 4, 6, 8, 10]"
      ]
     },
     "execution_count": 46,
     "metadata": {},
     "output_type": "execute_result"
    }
   ],
   "source": [
    "list(map(lambda x: x*2, [1, 2, 3, 4, 5]))"
   ]
  },
  {
   "cell_type": "code",
   "execution_count": 47,
   "id": "d2f85c39",
   "metadata": {},
   "outputs": [],
   "source": [
    "# 파이썬의 입출력(자원)\n",
    "# 표준 입출력 -> input/print\n",
    "# 텍스트 파일(자원) 입출력 I/O\n",
    "# 파일 단위 입출력 -> open(자원의 경로, 모드)\n",
    "# 모드 -> r(read), w(write), a(append) \n",
    "\n",
    "f = open('new_text.txt', 'w')\n",
    "f.close()"
   ]
  },
  {
   "cell_type": "code",
   "execution_count": 49,
   "id": "f2f94757",
   "metadata": {},
   "outputs": [],
   "source": [
    "f = open('new_text.txt', 'w') # 파일 오픈 (w)\n",
    "f.write('안녕하시온?!') # 텍스트 쓰기\n",
    "f.close()"
   ]
  },
  {
   "cell_type": "code",
   "execution_count": 52,
   "id": "2af031a8",
   "metadata": {},
   "outputs": [],
   "source": [
    "f = open('new_text.txt', 'w')\n",
    "for i in range(1, 11):\n",
    "    f.write(f'{i} 번째 줄 입력 \\n')\n",
    "f.close()"
   ]
  },
  {
   "cell_type": "code",
   "execution_count": 55,
   "id": "8d351d81",
   "metadata": {},
   "outputs": [
    {
     "name": "stdout",
     "output_type": "stream",
     "text": [
      "1 번째 줄 입력 \n",
      "\n"
     ]
    }
   ],
   "source": [
    "# 파일 내용 읽어 오기\n",
    "\n",
    "f = open('new_text.txt', 'r') # 파일 오픈 (r)\n",
    "line1 = f.readline()\n",
    "print(line1)\n",
    "f.close()\n"
   ]
  },
  {
   "cell_type": "code",
   "execution_count": 63,
   "id": "40236759",
   "metadata": {},
   "outputs": [
    {
     "name": "stdout",
     "output_type": "stream",
     "text": [
      "1 번째 줄 입력 \n",
      "2 번째 줄 입력 \n",
      "3 번째 줄 입력 \n",
      "4 번째 줄 입력 \n",
      "5 번째 줄 입력 \n",
      "6 번째 줄 입력 \n",
      "7 번째 줄 입력 \n",
      "8 번째 줄 입력 \n",
      "9 번째 줄 입력 \n",
      "10 번째 줄 입력 \n",
      "새로운 행 추가 \n",
      "새로운 16행 추가 \n",
      "새로운 17행 추가 \n",
      "새로운 18행 추가 \n",
      "새로운 19행 추가 \n",
      "새로운 20행 추가 \n"
     ]
    }
   ],
   "source": [
    "f = open('new_text.txt', 'r')\n",
    "\n",
    "while 1:\n",
    "    line = f.readline()\n",
    "    if not line:\n",
    "        break\n",
    "    print(line, end = '')\n",
    "\n",
    "f.close()"
   ]
  },
  {
   "cell_type": "code",
   "execution_count": 61,
   "id": "88dddc8c",
   "metadata": {},
   "outputs": [
    {
     "name": "stdout",
     "output_type": "stream",
     "text": [
      "['1 번째 줄 입력 \\n', '2 번째 줄 입력 \\n', '3 번째 줄 입력 \\n', '4 번째 줄 입력 \\n', '5 번째 줄 입력 \\n', '6 번째 줄 입력 \\n', '7 번째 줄 입력 \\n', '8 번째 줄 입력 \\n', '9 번째 줄 입력 \\n', '10 번째 줄 입력 \\n', '새로운 행 추가 \\n']\n"
     ]
    }
   ],
   "source": [
    "f = open('new_text.txt', 'r')\n",
    "\n",
    "lines = f.readlines()\n",
    "print(lines)\n",
    "\n",
    "f.close()"
   ]
  },
  {
   "cell_type": "code",
   "execution_count": 59,
   "id": "58fddb7f",
   "metadata": {},
   "outputs": [],
   "source": [
    "# 데이터 추가\n",
    "\n",
    "f = open('new_text.txt', 'a')\n",
    "f.write('새로운 행 추가 \\n')\n",
    "f.close()"
   ]
  },
  {
   "cell_type": "code",
   "execution_count": 62,
   "id": "f982886c",
   "metadata": {},
   "outputs": [],
   "source": [
    "f = open('new_text.txt', 'a')\n",
    "for i in range(16, 21):\n",
    "    f.write(f'새로운 {i}행 추가 \\n')\n",
    "f.close()"
   ]
  },
  {
   "cell_type": "code",
   "execution_count": 64,
   "id": "5bab0b4b",
   "metadata": {},
   "outputs": [
    {
     "name": "stdout",
     "output_type": "stream",
     "text": [
      "['1 번째 줄 입력 \\n', '2 번째 줄 입력 \\n', '3 번째 줄 입력 \\n', '4 번째 줄 입력 \\n', '5 번째 줄 입력 \\n', '6 번째 줄 입력 \\n', '7 번째 줄 입력 \\n', '8 번째 줄 입력 \\n', '9 번째 줄 입력 \\n', '10 번째 줄 입력 \\n', '새로운 행 추가 \\n', '새로운 16행 추가 \\n', '새로운 17행 추가 \\n', '새로운 18행 추가 \\n', '새로운 19행 추가 \\n', '새로운 20행 추가 \\n']\n"
     ]
    }
   ],
   "source": [
    "# close 생략 가능한 구현 -> with\n",
    "\n",
    "with open('new_text.txt', 'r') as file:\n",
    "    lines = file.readlines()\n",
    "    print(lines)"
   ]
  },
  {
   "cell_type": "code",
   "execution_count": null,
   "id": "5d3e1d83",
   "metadata": {},
   "outputs": [],
   "source": [
    "# 예외 처리: 에러가 발생했을 때 비정상적인 종료를 막기 위한 처리"
   ]
  },
  {
   "cell_type": "code",
   "execution_count": null,
   "id": "65669fb3",
   "metadata": {},
   "outputs": [
    {
     "name": "stdout",
     "output_type": "stream",
     "text": [
      "0으로 나눌 수 없습니다\n",
      "프로그램을 종료합니다\n"
     ]
    }
   ],
   "source": [
    "try:\n",
    "    print(10 / 0) # 에러가 예상됨\n",
    "except ZeroDivisionError:\n",
    "    print('0으로 나눌 수 없습니다')\n",
    "except NameError:\n",
    "    print('정의되지 않은 식별자입니다')\n",
    "except IndexError:\n",
    "    print('리스트의 인덱스 범위를 벗어났습니다')\n",
    "except:\n",
    "    print('알 수 없는 오류가 발생했습니다')\n",
    "    \n",
    "print('프로그램을 종료합니다')"
   ]
  },
  {
   "cell_type": "code",
   "execution_count": null,
   "id": "09768f69",
   "metadata": {},
   "outputs": [],
   "source": [
    "# finally -> 예외 상관없이 무조건 처리되어야 하는 구문"
   ]
  },
  {
   "cell_type": "code",
   "execution_count": 78,
   "id": "221a1f87",
   "metadata": {},
   "outputs": [
    {
     "name": "stdout",
     "output_type": "stream",
     "text": [
      "입장 가능\n"
     ]
    }
   ],
   "source": [
    "try:\n",
    "    age = int(input('나이를 입력하세요'))\n",
    "\n",
    "except:\n",
    "    print('숫자로 입력해 주세요')\n",
    "\n",
    "else:\n",
    "    if age > 18:\n",
    "        print('입장 가능')\n",
    "    else:\n",
    "        print('입장 불가')"
   ]
  },
  {
   "cell_type": "code",
   "execution_count": 2,
   "id": "48e7a92f",
   "metadata": {},
   "outputs": [],
   "source": [
    "import pandas as pd"
   ]
  },
  {
   "cell_type": "code",
   "execution_count": 5,
   "id": "9d9087b4",
   "metadata": {},
   "outputs": [
    {
     "name": "stdout",
     "output_type": "stream",
     "text": [
      "   name  age\n",
      "0   son   30\n",
      "1  king   20\n",
      "2   gnu   35\n"
     ]
    }
   ],
   "source": [
    "# 데이터 프레임\n",
    "\n",
    "data = {\n",
    "    'name' : ['son', 'king', 'gnu'],\n",
    "    'age' : [30, 20, 35]\n",
    "}\n",
    "\n",
    "df = pd.DataFrame(data)\n",
    "\n",
    "print(df)"
   ]
  },
  {
   "cell_type": "code",
   "execution_count": null,
   "id": "a406ce3d",
   "metadata": {},
   "outputs": [
    {
     "data": {
      "text/html": [
       "<div>\n",
       "<style scoped>\n",
       "    .dataframe tbody tr th:only-of-type {\n",
       "        vertical-align: middle;\n",
       "    }\n",
       "\n",
       "    .dataframe tbody tr th {\n",
       "        vertical-align: top;\n",
       "    }\n",
       "\n",
       "    .dataframe thead th {\n",
       "        text-align: right;\n",
       "    }\n",
       "</style>\n",
       "<table border=\"1\" class=\"dataframe\">\n",
       "  <thead>\n",
       "    <tr style=\"text-align: right;\">\n",
       "      <th></th>\n",
       "      <th>name</th>\n",
       "      <th>age</th>\n",
       "    </tr>\n",
       "  </thead>\n",
       "  <tbody>\n",
       "    <tr>\n",
       "      <th>0</th>\n",
       "      <td>son</td>\n",
       "      <td>30</td>\n",
       "    </tr>\n",
       "    <tr>\n",
       "      <th>1</th>\n",
       "      <td>king</td>\n",
       "      <td>20</td>\n",
       "    </tr>\n",
       "  </tbody>\n",
       "</table>\n",
       "</div>"
      ],
      "text/plain": [
       "   name  age\n",
       "0   son   30\n",
       "1  king   20"
      ]
     },
     "execution_count": 10,
     "metadata": {},
     "output_type": "execute_result"
    }
   ],
   "source": [
    "# df.head() -> 디폴트는 다섯 개 출력\n",
    "\n",
    "df.head(n=2)"
   ]
  },
  {
   "cell_type": "code",
   "execution_count": 12,
   "id": "7c35b027",
   "metadata": {},
   "outputs": [
    {
     "data": {
      "text/html": [
       "<div>\n",
       "<style scoped>\n",
       "    .dataframe tbody tr th:only-of-type {\n",
       "        vertical-align: middle;\n",
       "    }\n",
       "\n",
       "    .dataframe tbody tr th {\n",
       "        vertical-align: top;\n",
       "    }\n",
       "\n",
       "    .dataframe thead th {\n",
       "        text-align: right;\n",
       "    }\n",
       "</style>\n",
       "<table border=\"1\" class=\"dataframe\">\n",
       "  <thead>\n",
       "    <tr style=\"text-align: right;\">\n",
       "      <th></th>\n",
       "      <th>name</th>\n",
       "      <th>age</th>\n",
       "    </tr>\n",
       "  </thead>\n",
       "  <tbody>\n",
       "    <tr>\n",
       "      <th>2</th>\n",
       "      <td>gnu</td>\n",
       "      <td>35</td>\n",
       "    </tr>\n",
       "  </tbody>\n",
       "</table>\n",
       "</div>"
      ],
      "text/plain": [
       "  name  age\n",
       "2  gnu   35"
      ]
     },
     "execution_count": 12,
     "metadata": {},
     "output_type": "execute_result"
    }
   ],
   "source": [
    "df.tail(1)"
   ]
  },
  {
   "cell_type": "code",
   "execution_count": null,
   "id": "93fa36f3",
   "metadata": {},
   "outputs": [
    {
     "data": {
      "text/html": [
       "<div>\n",
       "<style scoped>\n",
       "    .dataframe tbody tr th:only-of-type {\n",
       "        vertical-align: middle;\n",
       "    }\n",
       "\n",
       "    .dataframe tbody tr th {\n",
       "        vertical-align: top;\n",
       "    }\n",
       "\n",
       "    .dataframe thead th {\n",
       "        text-align: right;\n",
       "    }\n",
       "</style>\n",
       "<table border=\"1\" class=\"dataframe\">\n",
       "  <thead>\n",
       "    <tr style=\"text-align: right;\">\n",
       "      <th></th>\n",
       "      <th>name</th>\n",
       "      <th>age</th>\n",
       "    </tr>\n",
       "  </thead>\n",
       "  <tbody>\n",
       "    <tr>\n",
       "      <th>0</th>\n",
       "      <td>son</td>\n",
       "      <td>30</td>\n",
       "    </tr>\n",
       "    <tr>\n",
       "      <th>1</th>\n",
       "      <td>king</td>\n",
       "      <td>20</td>\n",
       "    </tr>\n",
       "  </tbody>\n",
       "</table>\n",
       "</div>"
      ],
      "text/plain": [
       "   name  age\n",
       "0   son   30\n",
       "1  king   20"
      ]
     },
     "execution_count": 14,
     "metadata": {},
     "output_type": "execute_result"
    }
   ],
   "source": [
    "# filter\n",
    "\n",
    "filter_df = df[df['age'] < 35]\n",
    "\n",
    "filter_df"
   ]
  },
  {
   "cell_type": "code",
   "execution_count": 16,
   "id": "2b3b664f",
   "metadata": {},
   "outputs": [
    {
     "name": "stdout",
     "output_type": "stream",
     "text": [
      "85\n",
      "28.333333333333332\n"
     ]
    }
   ],
   "source": [
    "# 기초 통계 -> 합, 평균, ...\n",
    "\n",
    "print(df['age'].sum())\n",
    "print(df['age'].mean())"
   ]
  },
  {
   "cell_type": "code",
   "execution_count": 20,
   "id": "44b005af",
   "metadata": {},
   "outputs": [
    {
     "name": "stdout",
     "output_type": "stream",
     "text": [
      "a    100\n",
      "b    200\n",
      "c    300\n",
      "dtype: int64\n"
     ]
    }
   ],
   "source": [
    "# Series -> 1차원 구조를 표현하는 타입\n",
    "# (리스트, index=[])\n",
    "\n",
    "s1 = pd.Series([100, 200, 300], index=['a', 'b', 'c'])\n",
    "print(s1)"
   ]
  },
  {
   "cell_type": "code",
   "execution_count": 24,
   "id": "691fa1c3",
   "metadata": {},
   "outputs": [
    {
     "name": "stdout",
     "output_type": "stream",
     "text": [
      "200\n",
      "300\n",
      "100\n",
      "Index(['a', 'b', 'c'], dtype='object')\n",
      "[100 200 300]\n"
     ]
    }
   ],
   "source": [
    "print(s1['b'])\n",
    "print(s1['c'])\n",
    "print(s1['a'])\n",
    "print(s1.index)\n",
    "print(s1.values)"
   ]
  },
  {
   "cell_type": "code",
   "execution_count": 25,
   "id": "79c9612d",
   "metadata": {},
   "outputs": [
    {
     "data": {
      "text/plain": [
       "(3, 2)"
      ]
     },
     "execution_count": 25,
     "metadata": {},
     "output_type": "execute_result"
    }
   ],
   "source": [
    "# 데이터 구조 확인 (행렬 구조 확인)\n",
    "\n",
    "df.shape"
   ]
  },
  {
   "cell_type": "code",
   "execution_count": null,
   "id": "7ee43b70",
   "metadata": {},
   "outputs": [
    {
     "name": "stdout",
     "output_type": "stream",
     "text": [
      "<class 'pandas.core.frame.DataFrame'>\n",
      "RangeIndex: 3 entries, 0 to 2\n",
      "Data columns (total 2 columns):\n",
      " #   Column  Non-Null Count  Dtype \n",
      "---  ------  --------------  ----- \n",
      " 0   name    3 non-null      object\n",
      " 1   age     3 non-null      int64 \n",
      "dtypes: int64(1), object(1)\n",
      "memory usage: 180.0+ bytes\n"
     ]
    }
   ],
   "source": [
    "df.info()\n",
    "\n",
    "# 데이터 프레임 타입\n",
    "# 범위는 3(행) 인덱스는 0~2\n",
    "# 열 2개\n"
   ]
  },
  {
   "cell_type": "code",
   "execution_count": null,
   "id": "e9067bf4",
   "metadata": {},
   "outputs": [
    {
     "data": {
      "text/html": [
       "<div>\n",
       "<style scoped>\n",
       "    .dataframe tbody tr th:only-of-type {\n",
       "        vertical-align: middle;\n",
       "    }\n",
       "\n",
       "    .dataframe tbody tr th {\n",
       "        vertical-align: top;\n",
       "    }\n",
       "\n",
       "    .dataframe thead th {\n",
       "        text-align: right;\n",
       "    }\n",
       "</style>\n",
       "<table border=\"1\" class=\"dataframe\">\n",
       "  <thead>\n",
       "    <tr style=\"text-align: right;\">\n",
       "      <th></th>\n",
       "      <th>age</th>\n",
       "    </tr>\n",
       "  </thead>\n",
       "  <tbody>\n",
       "    <tr>\n",
       "      <th>count</th>\n",
       "      <td>3.000000</td>\n",
       "    </tr>\n",
       "    <tr>\n",
       "      <th>mean</th>\n",
       "      <td>28.333333</td>\n",
       "    </tr>\n",
       "    <tr>\n",
       "      <th>std</th>\n",
       "      <td>7.637626</td>\n",
       "    </tr>\n",
       "    <tr>\n",
       "      <th>min</th>\n",
       "      <td>20.000000</td>\n",
       "    </tr>\n",
       "    <tr>\n",
       "      <th>25%</th>\n",
       "      <td>25.000000</td>\n",
       "    </tr>\n",
       "    <tr>\n",
       "      <th>50%</th>\n",
       "      <td>30.000000</td>\n",
       "    </tr>\n",
       "    <tr>\n",
       "      <th>75%</th>\n",
       "      <td>32.500000</td>\n",
       "    </tr>\n",
       "    <tr>\n",
       "      <th>max</th>\n",
       "      <td>35.000000</td>\n",
       "    </tr>\n",
       "  </tbody>\n",
       "</table>\n",
       "</div>"
      ],
      "text/plain": [
       "             age\n",
       "count   3.000000\n",
       "mean   28.333333\n",
       "std     7.637626\n",
       "min    20.000000\n",
       "25%    25.000000\n",
       "50%    30.000000\n",
       "75%    32.500000\n",
       "max    35.000000"
      ]
     },
     "execution_count": 27,
     "metadata": {},
     "output_type": "execute_result"
    }
   ],
   "source": [
    "# 통합 통계값\n",
    "\n",
    "df.describe()"
   ]
  },
  {
   "cell_type": "code",
   "execution_count": 30,
   "id": "712fdb59",
   "metadata": {},
   "outputs": [
    {
     "data": {
      "text/html": [
       "<div>\n",
       "<style scoped>\n",
       "    .dataframe tbody tr th:only-of-type {\n",
       "        vertical-align: middle;\n",
       "    }\n",
       "\n",
       "    .dataframe tbody tr th {\n",
       "        vertical-align: top;\n",
       "    }\n",
       "\n",
       "    .dataframe thead th {\n",
       "        text-align: right;\n",
       "    }\n",
       "</style>\n",
       "<table border=\"1\" class=\"dataframe\">\n",
       "  <thead>\n",
       "    <tr style=\"text-align: right;\">\n",
       "      <th></th>\n",
       "      <th>age</th>\n",
       "      <th>name</th>\n",
       "    </tr>\n",
       "  </thead>\n",
       "  <tbody>\n",
       "    <tr>\n",
       "      <th>0</th>\n",
       "      <td>30</td>\n",
       "      <td>son</td>\n",
       "    </tr>\n",
       "    <tr>\n",
       "      <th>1</th>\n",
       "      <td>20</td>\n",
       "      <td>king</td>\n",
       "    </tr>\n",
       "    <tr>\n",
       "      <th>2</th>\n",
       "      <td>35</td>\n",
       "      <td>gnu</td>\n",
       "    </tr>\n",
       "  </tbody>\n",
       "</table>\n",
       "</div>"
      ],
      "text/plain": [
       "   age  name\n",
       "0   30   son\n",
       "1   20  king\n",
       "2   35   gnu"
      ]
     },
     "execution_count": 30,
     "metadata": {},
     "output_type": "execute_result"
    }
   ],
   "source": [
    "df[['age', 'name']]"
   ]
  },
  {
   "cell_type": "code",
   "execution_count": 79,
   "id": "8c29e753",
   "metadata": {},
   "outputs": [],
   "source": [
    "data = {\n",
    "    'name' : ['lee', 'kim', 'park'],\n",
    "    'age' : [20, 40, 35],\n",
    "    'score' : [90, 85, 95]\n",
    "}\n",
    "\n",
    "df = pd.DataFrame(data)"
   ]
  },
  {
   "cell_type": "code",
   "execution_count": 80,
   "id": "53feb78f",
   "metadata": {},
   "outputs": [
    {
     "name": "stdout",
     "output_type": "stream",
     "text": [
      "   name  age  score\n",
      "0   lee   20     90\n",
      "2  park   35     95\n"
     ]
    }
   ],
   "source": [
    "chk_score = df[df['score'] >= 90]\n",
    "print(chk_score)"
   ]
  },
  {
   "cell_type": "code",
   "execution_count": 81,
   "id": "26cec70a",
   "metadata": {},
   "outputs": [
    {
     "name": "stdout",
     "output_type": "stream",
     "text": [
      "   name  age  score  passed\n",
      "0   lee   20     90    True\n",
      "1   kim   40     85   False\n",
      "2  park   35     95    True\n"
     ]
    }
   ],
   "source": [
    "# 열 추가\n",
    "\n",
    "df['passed'] = df['score'] >= 90\n",
    "print(df)"
   ]
  },
  {
   "cell_type": "code",
   "execution_count": 82,
   "id": "bee4d175",
   "metadata": {},
   "outputs": [
    {
     "data": {
      "text/html": [
       "<div>\n",
       "<style scoped>\n",
       "    .dataframe tbody tr th:only-of-type {\n",
       "        vertical-align: middle;\n",
       "    }\n",
       "\n",
       "    .dataframe tbody tr th {\n",
       "        vertical-align: top;\n",
       "    }\n",
       "\n",
       "    .dataframe thead th {\n",
       "        text-align: right;\n",
       "    }\n",
       "</style>\n",
       "<table border=\"1\" class=\"dataframe\">\n",
       "  <thead>\n",
       "    <tr style=\"text-align: right;\">\n",
       "      <th></th>\n",
       "      <th>name</th>\n",
       "      <th>age</th>\n",
       "      <th>score</th>\n",
       "      <th>passed</th>\n",
       "    </tr>\n",
       "  </thead>\n",
       "  <tbody>\n",
       "    <tr>\n",
       "      <th>0</th>\n",
       "      <td>lee</td>\n",
       "      <td>20</td>\n",
       "      <td>90</td>\n",
       "      <td>True</td>\n",
       "    </tr>\n",
       "    <tr>\n",
       "      <th>1</th>\n",
       "      <td>kim</td>\n",
       "      <td>40</td>\n",
       "      <td>85</td>\n",
       "      <td>False</td>\n",
       "    </tr>\n",
       "    <tr>\n",
       "      <th>2</th>\n",
       "      <td>park</td>\n",
       "      <td>35</td>\n",
       "      <td>95</td>\n",
       "      <td>True</td>\n",
       "    </tr>\n",
       "  </tbody>\n",
       "</table>\n",
       "</div>"
      ],
      "text/plain": [
       "   name  age  score  passed\n",
       "0   lee   20     90    True\n",
       "1   kim   40     85   False\n",
       "2  park   35     95    True"
      ]
     },
     "execution_count": 82,
     "metadata": {},
     "output_type": "execute_result"
    }
   ],
   "source": [
    "df"
   ]
  },
  {
   "cell_type": "code",
   "execution_count": 83,
   "id": "dade87d9",
   "metadata": {},
   "outputs": [
    {
     "name": "stdout",
     "output_type": "stream",
     "text": [
      "   name  age  score  passed\n",
      "0   lee   20     90    True\n",
      "1   kim   40     85   False\n",
      "2  park   35     95    True\n",
      "   name  age  score  passed\n",
      "0  choi   25     88   False\n"
     ]
    }
   ],
   "source": [
    "# 행 추가 -> pd.append\n",
    "\n",
    "new_row = {\n",
    "    'name' : ['choi'],\n",
    "    'age' : [25],\n",
    "    'score' : [88],\n",
    "    'passed' : [False]\n",
    "}\n",
    "\n",
    "df2 = pd.DataFrame(new_row)\n",
    "\n",
    "print(df)\n",
    "print(df2)\n"
   ]
  },
  {
   "cell_type": "code",
   "execution_count": 84,
   "id": "a86ff500",
   "metadata": {},
   "outputs": [
    {
     "name": "stdout",
     "output_type": "stream",
     "text": [
      "   name  age  score  passed\n",
      "0   lee   20     90    True\n",
      "1   kim   40     85   False\n",
      "2  park   35     95    True\n",
      "3  choi   25     88   False\n"
     ]
    }
   ],
   "source": [
    "df = pd.concat([df, df2], ignore_index=True)\n",
    "\n",
    "print(df)"
   ]
  },
  {
   "cell_type": "code",
   "execution_count": 85,
   "id": "b8182e7a",
   "metadata": {},
   "outputs": [
    {
     "data": {
      "text/html": [
       "<div>\n",
       "<style scoped>\n",
       "    .dataframe tbody tr th:only-of-type {\n",
       "        vertical-align: middle;\n",
       "    }\n",
       "\n",
       "    .dataframe tbody tr th {\n",
       "        vertical-align: top;\n",
       "    }\n",
       "\n",
       "    .dataframe thead th {\n",
       "        text-align: right;\n",
       "    }\n",
       "</style>\n",
       "<table border=\"1\" class=\"dataframe\">\n",
       "  <thead>\n",
       "    <tr style=\"text-align: right;\">\n",
       "      <th></th>\n",
       "      <th>name</th>\n",
       "      <th>age</th>\n",
       "      <th>score</th>\n",
       "      <th>passed</th>\n",
       "    </tr>\n",
       "  </thead>\n",
       "  <tbody>\n",
       "    <tr>\n",
       "      <th>0</th>\n",
       "      <td>lee</td>\n",
       "      <td>20</td>\n",
       "      <td>99</td>\n",
       "      <td>True</td>\n",
       "    </tr>\n",
       "    <tr>\n",
       "      <th>1</th>\n",
       "      <td>kim</td>\n",
       "      <td>40</td>\n",
       "      <td>85</td>\n",
       "      <td>False</td>\n",
       "    </tr>\n",
       "    <tr>\n",
       "      <th>2</th>\n",
       "      <td>park</td>\n",
       "      <td>35</td>\n",
       "      <td>95</td>\n",
       "      <td>True</td>\n",
       "    </tr>\n",
       "    <tr>\n",
       "      <th>3</th>\n",
       "      <td>choi</td>\n",
       "      <td>25</td>\n",
       "      <td>88</td>\n",
       "      <td>False</td>\n",
       "    </tr>\n",
       "  </tbody>\n",
       "</table>\n",
       "</div>"
      ],
      "text/plain": [
       "   name  age  score  passed\n",
       "0   lee   20     99    True\n",
       "1   kim   40     85   False\n",
       "2  park   35     95    True\n",
       "3  choi   25     88   False"
      ]
     },
     "execution_count": 85,
     "metadata": {},
     "output_type": "execute_result"
    }
   ],
   "source": [
    "# 데이터 수정\n",
    "\n",
    "df.loc[0, 'score'] = 99\n",
    "\n",
    "df"
   ]
  },
  {
   "cell_type": "code",
   "execution_count": 86,
   "id": "0a38d168",
   "metadata": {},
   "outputs": [
    {
     "data": {
      "text/html": [
       "<div>\n",
       "<style scoped>\n",
       "    .dataframe tbody tr th:only-of-type {\n",
       "        vertical-align: middle;\n",
       "    }\n",
       "\n",
       "    .dataframe tbody tr th {\n",
       "        vertical-align: top;\n",
       "    }\n",
       "\n",
       "    .dataframe thead th {\n",
       "        text-align: right;\n",
       "    }\n",
       "</style>\n",
       "<table border=\"1\" class=\"dataframe\">\n",
       "  <thead>\n",
       "    <tr style=\"text-align: right;\">\n",
       "      <th></th>\n",
       "      <th>name</th>\n",
       "      <th>age</th>\n",
       "      <th>score</th>\n",
       "      <th>passed</th>\n",
       "    </tr>\n",
       "  </thead>\n",
       "  <tbody>\n",
       "    <tr>\n",
       "      <th>0</th>\n",
       "      <td>lee</td>\n",
       "      <td>20</td>\n",
       "      <td>99</td>\n",
       "      <td>True</td>\n",
       "    </tr>\n",
       "    <tr>\n",
       "      <th>1</th>\n",
       "      <td>kim</td>\n",
       "      <td>40</td>\n",
       "      <td>85</td>\n",
       "      <td>True</td>\n",
       "    </tr>\n",
       "    <tr>\n",
       "      <th>2</th>\n",
       "      <td>park</td>\n",
       "      <td>35</td>\n",
       "      <td>95</td>\n",
       "      <td>True</td>\n",
       "    </tr>\n",
       "    <tr>\n",
       "      <th>3</th>\n",
       "      <td>choi</td>\n",
       "      <td>25</td>\n",
       "      <td>88</td>\n",
       "      <td>True</td>\n",
       "    </tr>\n",
       "  </tbody>\n",
       "</table>\n",
       "</div>"
      ],
      "text/plain": [
       "   name  age  score  passed\n",
       "0   lee   20     99    True\n",
       "1   kim   40     85    True\n",
       "2  park   35     95    True\n",
       "3  choi   25     88    True"
      ]
     },
     "execution_count": 86,
     "metadata": {},
     "output_type": "execute_result"
    }
   ],
   "source": [
    "df['passed'] = df['score'] >= 80\n",
    "\n",
    "df"
   ]
  },
  {
   "cell_type": "code",
   "execution_count": 87,
   "id": "23841475",
   "metadata": {},
   "outputs": [
    {
     "data": {
      "text/html": [
       "<div>\n",
       "<style scoped>\n",
       "    .dataframe tbody tr th:only-of-type {\n",
       "        vertical-align: middle;\n",
       "    }\n",
       "\n",
       "    .dataframe tbody tr th {\n",
       "        vertical-align: top;\n",
       "    }\n",
       "\n",
       "    .dataframe thead th {\n",
       "        text-align: right;\n",
       "    }\n",
       "</style>\n",
       "<table border=\"1\" class=\"dataframe\">\n",
       "  <thead>\n",
       "    <tr style=\"text-align: right;\">\n",
       "      <th></th>\n",
       "      <th>name</th>\n",
       "      <th>age</th>\n",
       "      <th>score</th>\n",
       "      <th>passed</th>\n",
       "    </tr>\n",
       "  </thead>\n",
       "  <tbody>\n",
       "    <tr>\n",
       "      <th>0</th>\n",
       "      <td>lee</td>\n",
       "      <td>20</td>\n",
       "      <td>99.0</td>\n",
       "      <td>True</td>\n",
       "    </tr>\n",
       "    <tr>\n",
       "      <th>1</th>\n",
       "      <td>kim</td>\n",
       "      <td>40</td>\n",
       "      <td>NaN</td>\n",
       "      <td>True</td>\n",
       "    </tr>\n",
       "    <tr>\n",
       "      <th>2</th>\n",
       "      <td>park</td>\n",
       "      <td>35</td>\n",
       "      <td>95.0</td>\n",
       "      <td>True</td>\n",
       "    </tr>\n",
       "    <tr>\n",
       "      <th>3</th>\n",
       "      <td>choi</td>\n",
       "      <td>25</td>\n",
       "      <td>88.0</td>\n",
       "      <td>True</td>\n",
       "    </tr>\n",
       "  </tbody>\n",
       "</table>\n",
       "</div>"
      ],
      "text/plain": [
       "   name  age  score  passed\n",
       "0   lee   20   99.0    True\n",
       "1   kim   40    NaN    True\n",
       "2  park   35   95.0    True\n",
       "3  choi   25   88.0    True"
      ]
     },
     "execution_count": 87,
     "metadata": {},
     "output_type": "execute_result"
    }
   ],
   "source": [
    "# None\n",
    "\n",
    "df.loc[1, 'score'] = None\n",
    "df"
   ]
  },
  {
   "cell_type": "code",
   "execution_count": 88,
   "id": "7f70ec34",
   "metadata": {},
   "outputs": [
    {
     "data": {
      "text/html": [
       "<div>\n",
       "<style scoped>\n",
       "    .dataframe tbody tr th:only-of-type {\n",
       "        vertical-align: middle;\n",
       "    }\n",
       "\n",
       "    .dataframe tbody tr th {\n",
       "        vertical-align: top;\n",
       "    }\n",
       "\n",
       "    .dataframe thead th {\n",
       "        text-align: right;\n",
       "    }\n",
       "</style>\n",
       "<table border=\"1\" class=\"dataframe\">\n",
       "  <thead>\n",
       "    <tr style=\"text-align: right;\">\n",
       "      <th></th>\n",
       "      <th>name</th>\n",
       "      <th>age</th>\n",
       "      <th>score</th>\n",
       "      <th>passed</th>\n",
       "    </tr>\n",
       "  </thead>\n",
       "  <tbody>\n",
       "    <tr>\n",
       "      <th>0</th>\n",
       "      <td>lee</td>\n",
       "      <td>20</td>\n",
       "      <td>99.0</td>\n",
       "      <td>True</td>\n",
       "    </tr>\n",
       "    <tr>\n",
       "      <th>2</th>\n",
       "      <td>park</td>\n",
       "      <td>35</td>\n",
       "      <td>95.0</td>\n",
       "      <td>True</td>\n",
       "    </tr>\n",
       "    <tr>\n",
       "      <th>3</th>\n",
       "      <td>choi</td>\n",
       "      <td>25</td>\n",
       "      <td>88.0</td>\n",
       "      <td>True</td>\n",
       "    </tr>\n",
       "  </tbody>\n",
       "</table>\n",
       "</div>"
      ],
      "text/plain": [
       "   name  age  score  passed\n",
       "0   lee   20   99.0    True\n",
       "2  park   35   95.0    True\n",
       "3  choi   25   88.0    True"
      ]
     },
     "execution_count": 88,
     "metadata": {},
     "output_type": "execute_result"
    }
   ],
   "source": [
    "df = df.dropna()\n",
    "\n",
    "df"
   ]
  },
  {
   "cell_type": "code",
   "execution_count": 89,
   "id": "1caef677",
   "metadata": {},
   "outputs": [
    {
     "data": {
      "text/html": [
       "<div>\n",
       "<style scoped>\n",
       "    .dataframe tbody tr th:only-of-type {\n",
       "        vertical-align: middle;\n",
       "    }\n",
       "\n",
       "    .dataframe tbody tr th {\n",
       "        vertical-align: top;\n",
       "    }\n",
       "\n",
       "    .dataframe thead th {\n",
       "        text-align: right;\n",
       "    }\n",
       "</style>\n",
       "<table border=\"1\" class=\"dataframe\">\n",
       "  <thead>\n",
       "    <tr style=\"text-align: right;\">\n",
       "      <th></th>\n",
       "      <th>name</th>\n",
       "      <th>age</th>\n",
       "      <th>score</th>\n",
       "      <th>passed</th>\n",
       "    </tr>\n",
       "  </thead>\n",
       "  <tbody>\n",
       "    <tr>\n",
       "      <th>0</th>\n",
       "      <td>lee</td>\n",
       "      <td>20</td>\n",
       "      <td>99.0</td>\n",
       "      <td>True</td>\n",
       "    </tr>\n",
       "    <tr>\n",
       "      <th>2</th>\n",
       "      <td>park</td>\n",
       "      <td>35</td>\n",
       "      <td>85.0</td>\n",
       "      <td>True</td>\n",
       "    </tr>\n",
       "    <tr>\n",
       "      <th>3</th>\n",
       "      <td>choi</td>\n",
       "      <td>25</td>\n",
       "      <td>88.0</td>\n",
       "      <td>True</td>\n",
       "    </tr>\n",
       "  </tbody>\n",
       "</table>\n",
       "</div>"
      ],
      "text/plain": [
       "   name  age  score  passed\n",
       "0   lee   20   99.0    True\n",
       "2  park   35   85.0    True\n",
       "3  choi   25   88.0    True"
      ]
     },
     "execution_count": 89,
     "metadata": {},
     "output_type": "execute_result"
    }
   ],
   "source": [
    "df.loc[2, 'score'] = 85\n",
    "\n",
    "df"
   ]
  },
  {
   "cell_type": "code",
   "execution_count": 92,
   "id": "83421728",
   "metadata": {},
   "outputs": [
    {
     "name": "stdout",
     "output_type": "stream",
     "text": [
      "   name  age  score  passed\n",
      "0   lee   20   99.0    True\n",
      "3  choi   25   88.0    True\n",
      "2  park   35   85.0    True\n"
     ]
    }
   ],
   "source": [
    "# 정렬\n",
    "\n",
    "sorted_df = df.sort_values(by='score', ascending=False)\n",
    "\n",
    "print(sorted_df)"
   ]
  },
  {
   "cell_type": "code",
   "execution_count": 93,
   "id": "11a1bcda",
   "metadata": {},
   "outputs": [
    {
     "name": "stdout",
     "output_type": "stream",
     "text": [
      "  team  score\n",
      "0    A     80\n",
      "1    A     90\n",
      "2    B     78\n",
      "3    B     88\n",
      "4    C     70\n"
     ]
    }
   ],
   "source": [
    "# 그룹핑 -> ~별\n",
    "\n",
    "data = {\n",
    "    'team' : ['A', 'A', 'B', 'B', 'C'],\n",
    "    'score' : [80, 90, 78, 88, 70]\n",
    "}\n",
    "\n",
    "df = pd.DataFrame(data)\n",
    "\n",
    "print(df)"
   ]
  },
  {
   "cell_type": "code",
   "execution_count": 94,
   "id": "84c353fb",
   "metadata": {},
   "outputs": [
    {
     "data": {
      "text/plain": [
       "team\n",
       "A    85.0\n",
       "B    83.0\n",
       "C    70.0\n",
       "Name: score, dtype: float64"
      ]
     },
     "execution_count": 94,
     "metadata": {},
     "output_type": "execute_result"
    }
   ],
   "source": [
    "group_data = df.groupby('team')['score'].mean()\n",
    "\n",
    "group_data"
   ]
  },
  {
   "cell_type": "code",
   "execution_count": 95,
   "id": "2a405bd6",
   "metadata": {},
   "outputs": [],
   "source": [
    "df.to_csv('output.csv', index=False)"
   ]
  },
  {
   "cell_type": "code",
   "execution_count": 96,
   "id": "d4caecd8",
   "metadata": {},
   "outputs": [],
   "source": [
    "group_data.to_csv('result.csv')"
   ]
  },
  {
   "cell_type": "code",
   "execution_count": 98,
   "id": "400610b7",
   "metadata": {},
   "outputs": [
    {
     "name": "stdout",
     "output_type": "stream",
     "text": [
      "  team  score\n",
      "0    A     80\n",
      "1    A     90\n",
      "2    B     78\n",
      "3    B     88\n",
      "4    C     70\n"
     ]
    }
   ],
   "source": [
    "data_csv = pd.read_csv('output.csv')\n",
    "\n",
    "print(data_csv)"
   ]
  },
  {
   "cell_type": "code",
   "execution_count": null,
   "id": "d586420d",
   "metadata": {},
   "outputs": [],
   "source": [
    "# 시각화\n",
    "\n",
    "# Matplotlib"
   ]
  },
  {
   "cell_type": "code",
   "execution_count": 99,
   "id": "05750388",
   "metadata": {},
   "outputs": [],
   "source": [
    "import matplotlib.pyplot as plt"
   ]
  },
  {
   "cell_type": "code",
   "execution_count": 100,
   "id": "db6c783b",
   "metadata": {},
   "outputs": [],
   "source": [
    "# 데이터 준비\n",
    "\n",
    "x = [1, 2, 3, 4, 5]\n",
    "y = [2, 3, 5, 7, 13]"
   ]
  },
  {
   "cell_type": "code",
   "execution_count": null,
   "id": "e072fcf8",
   "metadata": {},
   "outputs": [
    {
     "data": {
      "text/plain": [
       "<function matplotlib.pyplot.show(close=None, block=None)>"
      ]
     },
     "execution_count": 103,
     "metadata": {},
     "output_type": "execute_result"
    },
    {
     "data": {
      "image/png": "[encoded data removed]",
      "text/plain": [
       "<Figure size 640x480 with 1 Axes>"
      ]
     },
     "metadata": {},
     "output_type": "display_data"
    }
   ],
   "source": [
    "# 그래프 선택 (생성)\n",
    "plt.plot(x, y, \n",
    "         marker='o',\n",
    "         linestyle = '-',\n",
    "         color = 'b',\n",
    "         label = 'Numbers'\n",
    "         )\n",
    "\n",
    "# 그래프 설정\n",
    "plt.title('Line Graph')\n",
    "plt.xlabel('X')\n",
    "plt.ylabel('Y')\n",
    "plt.legend()\n",
    "\n",
    "# 그래프 출력\n",
    "plt.grid(True)\n",
    "plt.show"
   ]
  },
  {
   "cell_type": "code",
   "execution_count": null,
   "id": "fb719b93",
   "metadata": {},
   "outputs": [
    {
     "data": {
      "text/plain": [
       "<function matplotlib.pyplot.show(close=None, block=None)>"
      ]
     },
     "execution_count": 108,
     "metadata": {},
     "output_type": "execute_result"
    },
    {
     "data": {
      "image/png": "[encoded data removed]",
      "text/plain": [
       "<Figure size 640x480 with 1 Axes>"
      ]
     },
     "metadata": {},
     "output_type": "display_data"
    }
   ],
   "source": [
    "# 데이터\n",
    "ctgy= ['a', 'b', 'c', 'd', 'e'] # x 축\n",
    "val = [5, 7, 3, 9, 6] # y 축\n",
    "\n",
    "# 그래프 생성\n",
    "plt.bar(ctgy, val, \n",
    "         color = 'skyblue',\n",
    "         edgecolor = 'black'\n",
    "         )\n",
    "\n",
    "# 그래프 설정\n",
    "plt.title('Bar Chart')\n",
    "plt.xlabel('Category')\n",
    "plt.ylabel('Value')\n",
    "\n",
    "# 그래프 출력\n",
    "plt.show\n"
   ]
  },
  {
   "cell_type": "code",
   "execution_count": 109,
   "id": "6145c224",
   "metadata": {},
   "outputs": [
    {
     "data": {
      "text/plain": [
       "<function matplotlib.pyplot.show(close=None, block=None)>"
      ]
     },
     "execution_count": 109,
     "metadata": {},
     "output_type": "execute_result"
    },
    {
     "data": {
      "image/png": "[encoded data removed]",
      "text/plain": [
       "<Figure size 640x480 with 1 Axes>"
      ]
     },
     "metadata": {},
     "output_type": "display_data"
    }
   ],
   "source": [
    "# 데이터\n",
    "ctgy= ['a', 'b', 'c', 'd', 'e'] # x 축\n",
    "val = [5, 7, 3, 9, 6] # y 축\n",
    "\n",
    "# 그래프 생성\n",
    "plt.barh(ctgy, val, \n",
    "         color = 'skyblue',\n",
    "         edgecolor = 'black'\n",
    "         )\n",
    "\n",
    "# 그래프 설정\n",
    "plt.title('Bar Chart')\n",
    "plt.xlabel('Category')\n",
    "plt.ylabel('Value')\n",
    "\n",
    "# 그래프 출력\n",
    "plt.show\n"
   ]
  },
  {
   "cell_type": "code",
   "execution_count": 111,
   "id": "9f22b19e",
   "metadata": {},
   "outputs": [],
   "source": [
    "import numpy as np"
   ]
  },
  {
   "cell_type": "code",
   "execution_count": 117,
   "id": "d2e6f102",
   "metadata": {},
   "outputs": [
    {
     "data": {
      "image/png": "[encoded data removed]",
      "text/plain": [
       "<Figure size 640x480 with 1 Axes>"
      ]
     },
     "metadata": {},
     "output_type": "display_data"
    }
   ],
   "source": [
    "# 데이터 준비\n",
    "\n",
    "data = np.random.randn(1000)\n",
    "\n",
    "# 그래프 생성\n",
    "plt.hist(data,\n",
    "         bins=20,\n",
    "         color='orange',\n",
    "         edgecolor='black'\n",
    "         )\n",
    "\n",
    "# 그래프 설정\n",
    "plt.title('Histogram')\n",
    "plt.xlabel('Value Range')\n",
    "plt.ylabel('Count')\n",
    "\n",
    "# 그래프 출력\n",
    "plt.show()"
   ]
  },
  {
   "cell_type": "code",
   "execution_count": 118,
   "id": "d14343e5",
   "metadata": {},
   "outputs": [],
   "source": [
    "import seaborn as sns"
   ]
  },
  {
   "cell_type": "code",
   "execution_count": null,
   "id": "d10b89e4",
   "metadata": {},
   "outputs": [
    {
     "data": {
      "image/png": "[encoded data removed]",
      "text/plain": [
       "<Figure size 640x480 with 2 Axes>"
      ]
     },
     "metadata": {},
     "output_type": "display_data"
    }
   ],
   "source": [
    "# HeatMap\n",
    "\n",
    "# 데이터 준비\n",
    "data = np.random.rand(10, 10)\n",
    "mask = np.triu(np.ones_like(data, dtype=bool))\n",
    "\n",
    "sns.heatmap(data, annot=True, mask=mask)\n",
    "\n",
    "plt.title('HeatMap')\n",
    "plt.show()\n"
   ]
  },
  {
   "cell_type": "code",
   "execution_count": 123,
   "id": "531031cb",
   "metadata": {},
   "outputs": [
    {
     "name": "stderr",
     "output_type": "stream",
     "text": [
      "C:\\Users\\ez\\AppData\\Local\\Temp\\ipykernel_18384\\236501205.py:6: FutureWarning: \n",
      "\n",
      "Passing `palette` without assigning `hue` is deprecated and will be removed in v0.14.0. Assign the `x` variable to `hue` and set `legend=False` for the same effect.\n",
      "\n",
      "  sns.boxplot(\n"
     ]
    },
    {
     "data": {
      "image/png": "[encoded data removed]",
      "text/plain": [
       "<Figure size 640x480 with 1 Axes>"
      ]
     },
     "metadata": {},
     "output_type": "display_data"
    }
   ],
   "source": [
    "# Box Plot\n",
    "\n",
    "tips = sns.load_dataset('tips')\n",
    "\n",
    "# 그래프 생성\n",
    "sns.boxplot(\n",
    "    data=tips,\n",
    "    palette='Set2',\n",
    "    x='day',\n",
    "    y='total_bill'\n",
    ")\n",
    "\n",
    "plt.title('BoxPlot')\n",
    "plt.show()"
   ]
  },
  {
   "cell_type": "code",
   "execution_count": 124,
   "id": "a94263ca",
   "metadata": {},
   "outputs": [
    {
     "name": "stderr",
     "output_type": "stream",
     "text": [
      "C:\\Users\\ez\\AppData\\Local\\Temp\\ipykernel_18384\\2723856626.py:4: FutureWarning: \n",
      "\n",
      "Passing `palette` without assigning `hue` is deprecated and will be removed in v0.14.0. Assign the `x` variable to `hue` and set `legend=False` for the same effect.\n",
      "\n",
      "  sns.violinplot(\n"
     ]
    },
    {
     "data": {
      "image/png": "[encoded data removed]",
      "text/plain": [
       "<Figure size 640x480 with 1 Axes>"
      ]
     },
     "metadata": {},
     "output_type": "display_data"
    }
   ],
   "source": [
    "# Violin Plot\n",
    "\n",
    "# 그래프 생성\n",
    "sns.violinplot(\n",
    "    data=tips,\n",
    "    palette='muted',\n",
    "    x='day',\n",
    "    y='total_bill',\n",
    "    split=True\n",
    ")\n",
    "\n",
    "plt.title('Violin Plot')\n",
    "plt.show()"
   ]
  },
  {
   "cell_type": "code",
   "execution_count": null,
   "id": "109fcde1",
   "metadata": {},
   "outputs": [],
   "source": []
  },
  {
   "cell_type": "code",
   "execution_count": null,
   "id": "a77e4b06",
   "metadata": {},
   "outputs": [],
   "source": []
  },
  {
   "cell_type": "code",
   "execution_count": null,
   "id": "9b580703",
   "metadata": {},
   "outputs": [],
   "source": []
  },
  {
   "cell_type": "code",
   "execution_count": null,
   "id": "20e9a560",
   "metadata": {},
   "outputs": [],
   "source": []
  },
  {
   "cell_type": "code",
   "execution_count": null,
   "id": "8b227309",
   "metadata": {},
   "outputs": [],
   "source": []
  },
  {
   "cell_type": "code",
   "execution_count": null,
   "id": "6ca102c1",
   "metadata": {},
   "outputs": [],
   "source": []
  },
  {
   "cell_type": "code",
   "execution_count": null,
   "id": "04be2c13",
   "metadata": {},
   "outputs": [],
   "source": []
  },
  {
   "cell_type": "code",
   "execution_count": null,
   "id": "78fdfe1c",
   "metadata": {},
   "outputs": [],
   "source": []
  }
 ],
 "metadata": {
  "kernelspec": {
   "display_name": ".venv",
   "language": "python",
   "name": "python3"
  },
  "language_info": {
   "codemirror_mode": {
    "name": "ipython",
    "version": 3
   },
   "file_extension": ".py",
   "mimetype": "text/x-python",
   "name": "python",
   "nbconvert_exporter": "python",
   "pygments_lexer": "ipython3",
   "version": "3.13.4"
  }
 },
 "nbformat": 4,
 "nbformat_minor": 5
}

{
 "cells": [
  {
   "cell_type": "markdown",
   "id": "643162cb",
   "metadata": {},
   "source": [
    "## 문제 5: 데이터 스케일링\n",
    "\n",
    "데이터 스케일링은 데이터의 범위를 조정하는 작업을 의미합니다.\n",
    "\n",
    "데이터 스케일링을 통해 데이터의 분포를 조정하고, 모델의 성능을 향상시킬 수 있습니다.\n",
    "\n",
    "대표적인 데이터 스케일링 방법으로는 StandardScaler, MinMaxScaler 등이 있습니다.\n",
    "\n",
    "이번 문제에서는 StandardScaler를 사용하여 데이터를 표준화하는 방법을 실습합니다."
   ]
  },
  {
   "cell_type": "markdown",
   "id": "e8d691af",
   "metadata": {},
   "source": [
    "## 문제\n",
    "\n",
    "Kaggle의 \"Wine Quality\" 데이터셋(winequality-red.csv)을 사용하여 데이터를 스케일링하세요.\n",
    "\n",
    "fixed acidity, volatile acidity, citric acid, residual sugar, chlorides 열의 값을 StandardScaler로 표준화하세요.\n",
    "\n",
    "표준화된 결과를 출력하세요.\n",
    "\n",
    "데이터셋을 불러온 후, 데이터 스케일링을 수행하는 코드를 작성하세요."
   ]
  },
  {
   "cell_type": "code",
   "execution_count": null,
   "id": "3278a763",
   "metadata": {},
   "outputs": [],
   "source": [
    "import pandas as pd\n",
    "from sklearn.preprocessing import StandardScaler"
   ]
  },
  {
   "cell_type": "code",
   "execution_count": 3,
   "id": "0c6ce0c1",
   "metadata": {},
   "outputs": [],
   "source": [
    "data = pd.read_csv('winequality-red.csv')\n",
    "df = pd.DataFrame(data)"
   ]
  },
  {
   "cell_type": "code",
   "execution_count": 4,
   "id": "10afd4d7",
   "metadata": {},
   "outputs": [
    {
     "name": "stdout",
     "output_type": "stream",
     "text": [
      "      fixed acidity  volatile acidity  citric acid  residual sugar  chlorides  \\\n",
      "0               7.4             0.700         0.00             1.9      0.076   \n",
      "1               7.8             0.880         0.00             2.6      0.098   \n",
      "2               7.8             0.760         0.04             2.3      0.092   \n",
      "3              11.2             0.280         0.56             1.9      0.075   \n",
      "4               7.4             0.700         0.00             1.9      0.076   \n",
      "...             ...               ...          ...             ...        ...   \n",
      "1594            6.2             0.600         0.08             2.0      0.090   \n",
      "1595            5.9             0.550         0.10             2.2      0.062   \n",
      "1596            6.3             0.510         0.13             2.3      0.076   \n",
      "1597            5.9             0.645         0.12             2.0      0.075   \n",
      "1598            6.0             0.310         0.47             3.6      0.067   \n",
      "\n",
      "      free sulfur dioxide  total sulfur dioxide  density    pH  sulphates  \\\n",
      "0                    11.0                  34.0  0.99780  3.51       0.56   \n",
      "1                    25.0                  67.0  0.99680  3.20       0.68   \n",
      "2                    15.0                  54.0  0.99700  3.26       0.65   \n",
      "3                    17.0                  60.0  0.99800  3.16       0.58   \n",
      "4                    11.0                  34.0  0.99780  3.51       0.56   \n",
      "...                   ...                   ...      ...   ...        ...   \n",
      "1594                 32.0                  44.0  0.99490  3.45       0.58   \n",
      "1595                 39.0                  51.0  0.99512  3.52       0.76   \n",
      "1596                 29.0                  40.0  0.99574  3.42       0.75   \n",
      "1597                 32.0                  44.0  0.99547  3.57       0.71   \n",
      "1598                 18.0                  42.0  0.99549  3.39       0.66   \n",
      "\n",
      "      alcohol  quality  \n",
      "0         9.4        5  \n",
      "1         9.8        5  \n",
      "2         9.8        5  \n",
      "3         9.8        6  \n",
      "4         9.4        5  \n",
      "...       ...      ...  \n",
      "1594     10.5        5  \n",
      "1595     11.2        6  \n",
      "1596     11.0        6  \n",
      "1597     10.2        5  \n",
      "1598     11.0        6  \n",
      "\n",
      "[1599 rows x 12 columns]\n"
     ]
    }
   ],
   "source": [
    "print(df)"
   ]
  },
  {
   "cell_type": "code",
   "execution_count": 9,
   "id": "6b628be3",
   "metadata": {},
   "outputs": [
    {
     "name": "stdout",
     "output_type": "stream",
     "text": [
      "      fixed acidity  volatile acidity  citric acid  residual sugar  chlorides  \\\n",
      "0         -0.528360          0.961877    -1.391472       -0.453218  -0.243707   \n",
      "1         -0.298547          1.967442    -1.391472        0.043416   0.223875   \n",
      "2         -0.298547          1.297065    -1.186070       -0.169427   0.096353   \n",
      "3          1.654856         -1.384443     1.484154       -0.453218  -0.264960   \n",
      "4         -0.528360          0.961877    -1.391472       -0.453218  -0.243707   \n",
      "...             ...               ...          ...             ...        ...   \n",
      "1594      -1.217796          0.403229    -0.980669       -0.382271   0.053845   \n",
      "1595      -1.390155          0.123905    -0.877968       -0.240375  -0.541259   \n",
      "1596      -1.160343         -0.099554    -0.723916       -0.169427  -0.243707   \n",
      "1597      -1.390155          0.654620    -0.775267       -0.382271  -0.264960   \n",
      "1598      -1.332702         -1.216849     1.021999        0.752894  -0.434990   \n",
      "\n",
      "      free sulfur dioxide  total sulfur dioxide  density    pH  sulphates  \\\n",
      "0                    11.0                  34.0  0.99780  3.51       0.56   \n",
      "1                    25.0                  67.0  0.99680  3.20       0.68   \n",
      "2                    15.0                  54.0  0.99700  3.26       0.65   \n",
      "3                    17.0                  60.0  0.99800  3.16       0.58   \n",
      "4                    11.0                  34.0  0.99780  3.51       0.56   \n",
      "...                   ...                   ...      ...   ...        ...   \n",
      "1594                 32.0                  44.0  0.99490  3.45       0.58   \n",
      "1595                 39.0                  51.0  0.99512  3.52       0.76   \n",
      "1596                 29.0                  40.0  0.99574  3.42       0.75   \n",
      "1597                 32.0                  44.0  0.99547  3.57       0.71   \n",
      "1598                 18.0                  42.0  0.99549  3.39       0.66   \n",
      "\n",
      "      alcohol  quality  \n",
      "0         9.4        5  \n",
      "1         9.8        5  \n",
      "2         9.8        5  \n",
      "3         9.8        6  \n",
      "4         9.4        5  \n",
      "...       ...      ...  \n",
      "1594     10.5        5  \n",
      "1595     11.2        6  \n",
      "1596     11.0        6  \n",
      "1597     10.2        5  \n",
      "1598     11.0        6  \n",
      "\n",
      "[1599 rows x 12 columns]\n"
     ]
    }
   ],
   "source": [
    "# StandardScaler 적용할 열 목록 \n",
    "cols = ['fixed acidity', 'volatile acidity', 'citric acid', 'residual sugar', 'chlorides']\n",
    "\n",
    "# 각 열에 StandardScaler 적용\n",
    "# StandardScaler -> 2차원 배열 받도록 설계\n",
    "# ** 이때 df에서 열을 칼럼 지목할 때 이중 대괄호를 써야 2차원 배열로 처리되어 오류가 나지 않음 **\n",
    "scaler = StandardScaler()\n",
    "for col in cols:\n",
    "    df[col] = scaler.fit_transform(df[[col]])\n",
    "\n",
    "print(df)"
   ]
  }
 ],
 "metadata": {
  "kernelspec": {
   "display_name": ".venv",
   "language": "python",
   "name": "python3"
  },
  "language_info": {
   "codemirror_mode": {
    "name": "ipython",
    "version": 3
   },
   "file_extension": ".py",
   "mimetype": "text/x-python",
   "name": "python",
   "nbconvert_exporter": "python",
   "pygments_lexer": "ipython3",
   "version": "3.13.4"
  }
 },
 "nbformat": 4,
 "nbformat_minor": 5
}

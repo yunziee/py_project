{
 "cells": [
  {
   "cell_type": "markdown",
   "id": "a2b8ac93",
   "metadata": {},
   "source": [
    "## 문제 4: 범주형 데이터 인코딩\n",
    "\n",
    "범주형 데이터(Categorical Data)는 문자열 형태로 표현되는 데이터를 의미합니다.\n",
    "\n",
    "머신러닝 알고리즘은 문자열 데이터를 바로 사용할 수 없기 때문에 숫자 형태로 변환해야 합니다.\n",
    "\n",
    "범주형 데이터를 숫자 형태로 변환하는 방법에는 여러 가지가 있습니다.\n",
    "\n",
    "대표적인 방법으로 Label Encoding과 One-Hot Encoding이 있습니다.\n",
    "\n",
    "Label Encoding은 각 범주(Category)를 숫자로 매핑하는 방식입니다.\n",
    "\n",
    "One-Hot Encoding은 각 범주를 이진 벡터로 표현하는 방식입니다."
   ]
  },
  {
   "cell_type": "markdown",
   "id": "514e4dfe",
   "metadata": {},
   "source": [
    "데이터셋을 불러온 후, 범주형 데이터를 인코딩하는 코드를 작성하세요.\n",
    "workclass, education, marital-status, occupation, relationship, race, gender, native-country 열을 Label Encoding으로 변환하세요."
   ]
  },
  {
   "cell_type": "code",
   "execution_count": 17,
   "id": "7fdbbc61",
   "metadata": {},
   "outputs": [],
   "source": [
    "import pandas as pd\n",
    "from sklearn.preprocessing import LabelEncoder"
   ]
  },
  {
   "cell_type": "code",
   "execution_count": null,
   "id": "9f038098",
   "metadata": {},
   "outputs": [],
   "source": [
    "data = pd.read_csv('adult.csv')\n",
    "df = pd.DataFrame(data)"
   ]
  },
  {
   "cell_type": "code",
   "execution_count": 19,
   "id": "47c3dd3a",
   "metadata": {},
   "outputs": [
    {
     "name": "stdout",
     "output_type": "stream",
     "text": [
      "       age     workclass  fnlwgt     education  educational-num  \\\n",
      "0       25       Private  226802          11th                7   \n",
      "1       38       Private   89814       HS-grad                9   \n",
      "2       28     Local-gov  336951    Assoc-acdm               12   \n",
      "3       44       Private  160323  Some-college               10   \n",
      "4       18             ?  103497  Some-college               10   \n",
      "...    ...           ...     ...           ...              ...   \n",
      "48837   27       Private  257302    Assoc-acdm               12   \n",
      "48838   40       Private  154374       HS-grad                9   \n",
      "48839   58       Private  151910       HS-grad                9   \n",
      "48840   22       Private  201490       HS-grad                9   \n",
      "48841   52  Self-emp-inc  287927       HS-grad                9   \n",
      "\n",
      "           marital-status         occupation relationship   race  gender  \\\n",
      "0           Never-married  Machine-op-inspct    Own-child  Black    Male   \n",
      "1      Married-civ-spouse    Farming-fishing      Husband  White    Male   \n",
      "2      Married-civ-spouse    Protective-serv      Husband  White    Male   \n",
      "3      Married-civ-spouse  Machine-op-inspct      Husband  Black    Male   \n",
      "4           Never-married                  ?    Own-child  White  Female   \n",
      "...                   ...                ...          ...    ...     ...   \n",
      "48837  Married-civ-spouse       Tech-support         Wife  White  Female   \n",
      "48838  Married-civ-spouse  Machine-op-inspct      Husband  White    Male   \n",
      "48839             Widowed       Adm-clerical    Unmarried  White  Female   \n",
      "48840       Never-married       Adm-clerical    Own-child  White    Male   \n",
      "48841  Married-civ-spouse    Exec-managerial         Wife  White  Female   \n",
      "\n",
      "       capital-gain  capital-loss  hours-per-week native-country income  \n",
      "0                 0             0              40  United-States  <=50K  \n",
      "1                 0             0              50  United-States  <=50K  \n",
      "2                 0             0              40  United-States   >50K  \n",
      "3              7688             0              40  United-States   >50K  \n",
      "4                 0             0              30  United-States  <=50K  \n",
      "...             ...           ...             ...            ...    ...  \n",
      "48837             0             0              38  United-States  <=50K  \n",
      "48838             0             0              40  United-States   >50K  \n",
      "48839             0             0              40  United-States  <=50K  \n",
      "48840             0             0              20  United-States  <=50K  \n",
      "48841         15024             0              40  United-States   >50K  \n",
      "\n",
      "[48842 rows x 15 columns]\n"
     ]
    }
   ],
   "source": [
    "print(df)"
   ]
  },
  {
   "cell_type": "code",
   "execution_count": 21,
   "id": "cf082592",
   "metadata": {},
   "outputs": [
    {
     "name": "stdout",
     "output_type": "stream",
     "text": [
      "<class 'pandas.core.frame.DataFrame'>\n",
      "RangeIndex: 48842 entries, 0 to 48841\n",
      "Data columns (total 15 columns):\n",
      " #   Column           Non-Null Count  Dtype \n",
      "---  ------           --------------  ----- \n",
      " 0   age              48842 non-null  int64 \n",
      " 1   workclass        48842 non-null  object\n",
      " 2   fnlwgt           48842 non-null  int64 \n",
      " 3   education        48842 non-null  object\n",
      " 4   educational-num  48842 non-null  int64 \n",
      " 5   marital-status   48842 non-null  object\n",
      " 6   occupation       48842 non-null  object\n",
      " 7   relationship     48842 non-null  object\n",
      " 8   race             48842 non-null  object\n",
      " 9   gender           48842 non-null  object\n",
      " 10  capital-gain     48842 non-null  int64 \n",
      " 11  capital-loss     48842 non-null  int64 \n",
      " 12  hours-per-week   48842 non-null  int64 \n",
      " 13  native-country   48842 non-null  object\n",
      " 14  income           48842 non-null  object\n",
      "dtypes: int64(6), object(9)\n",
      "memory usage: 5.6+ MB\n",
      "None\n"
     ]
    }
   ],
   "source": [
    "print(df.info())"
   ]
  },
  {
   "cell_type": "code",
   "execution_count": 22,
   "id": "91d6c755",
   "metadata": {},
   "outputs": [
    {
     "name": "stdout",
     "output_type": "stream",
     "text": [
      "       age  workclass  fnlwgt  education  educational-num  marital-status  \\\n",
      "0       25          4  226802          1                7               4   \n",
      "1       38          4   89814         11                9               2   \n",
      "2       28          2  336951          7               12               2   \n",
      "3       44          4  160323         15               10               2   \n",
      "4       18          0  103497         15               10               4   \n",
      "...    ...        ...     ...        ...              ...             ...   \n",
      "48837   27          4  257302          7               12               2   \n",
      "48838   40          4  154374         11                9               2   \n",
      "48839   58          4  151910         11                9               6   \n",
      "48840   22          4  201490         11                9               4   \n",
      "48841   52          5  287927         11                9               2   \n",
      "\n",
      "       occupation  relationship  race  gender  capital-gain  capital-loss  \\\n",
      "0               7             3     2       1             0             0   \n",
      "1               5             0     4       1             0             0   \n",
      "2              11             0     4       1             0             0   \n",
      "3               7             0     2       1          7688             0   \n",
      "4               0             3     4       0             0             0   \n",
      "...           ...           ...   ...     ...           ...           ...   \n",
      "48837          13             5     4       0             0             0   \n",
      "48838           7             0     4       1             0             0   \n",
      "48839           1             4     4       0             0             0   \n",
      "48840           1             3     4       1             0             0   \n",
      "48841           4             5     4       0         15024             0   \n",
      "\n",
      "       hours-per-week  native-country income  \n",
      "0                  40              39  <=50K  \n",
      "1                  50              39  <=50K  \n",
      "2                  40              39   >50K  \n",
      "3                  40              39   >50K  \n",
      "4                  30              39  <=50K  \n",
      "...               ...             ...    ...  \n",
      "48837              38              39  <=50K  \n",
      "48838              40              39   >50K  \n",
      "48839              40              39  <=50K  \n",
      "48840              20              39  <=50K  \n",
      "48841              40              39   >50K  \n",
      "\n",
      "[48842 rows x 15 columns]\n"
     ]
    }
   ],
   "source": [
    "# Label Encoding 적용할 열 목록 \n",
    "cols = ['workclass', 'education', 'marital-status', 'occupation', \n",
    "        'relationship', 'race', 'gender', 'native-country']\n",
    "\n",
    "# 각 열에 LabelEncoder 적용\n",
    "# LabelEncoder -> 1차원 배열 받도록 설계\n",
    "encoder = LabelEncoder()\n",
    "for col in cols:\n",
    "    df[col] = encoder.fit_transform(df[col])\n",
    "\n",
    "print(df)"
   ]
  }
 ],
 "metadata": {
  "kernelspec": {
   "display_name": ".venv",
   "language": "python",
   "name": "python3"
  },
  "language_info": {
   "codemirror_mode": {
    "name": "ipython",
    "version": 3
   },
   "file_extension": ".py",
   "mimetype": "text/x-python",
   "name": "python",
   "nbconvert_exporter": "python",
   "pygments_lexer": "ipython3",
   "version": "3.13.4"
  }
 },
 "nbformat": 4,
 "nbformat_minor": 5
}

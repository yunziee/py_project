{
 "cells": [
  {
   "cell_type": "markdown",
   "id": "53d35469",
   "metadata": {},
   "source": [
    "**신용카드 사기 거래 탐지**\n",
    "\n",
    "신용카드 사기 거래 탐지는 이진 분류 문제로, 주어진 거래가 정상인지 사기인지 예측\n",
    "\n",
    "KNeighborsClassifier 알고리즘 이용\n",
    "\n",
    "Credit Card Fraud Detection  데이터 셋 사용\n",
    "\n",
    "https://www.kaggle.com/datasets/mlg-ulb/creditcardfraud\n",
    "\n",
    "구현 가이드\n",
    "\n",
    "- **데이터 로드**: 신용카드 거래 데이터셋을 로드\n",
    "- 데이터 분할: 데이터를 학습 세트(80%)와 테스트 세트(20%)로 분할\n",
    "- 데이터 스케일링: KNN은 거리 기반 알고리즘이므로, 특성 값의 범위가 다르면 성능에 영향을 줄 수 있습니다. 이를 해결하기 위해 StandardScaler를 사용하여 데이터를 표준화\n",
    "- KNN 모델 학습: KNeighborsClassifier를 사용하여 KNN 분류 모델을 생성하고 학습 데이터를 학습시킵니다. n_neighbors=5는 가장 가까운 5개의 이웃을 기준으로 분류\n",
    "- 예측 및 성능 평가: 학습된 모델로 테스트 데이터를 예측하고, accuracy_score와 classification_report로 성능을 평가"
   ]
  }
 ],
 "metadata": {
  "kernelspec": {
   "display_name": ".venv",
   "language": "python",
   "name": "python3"
  },
  "language_info": {
   "name": "python",
   "version": "3.13.4"
  }
 },
 "nbformat": 4,
 "nbformat_minor": 5
}

{
 "cells": [
  {
   "cell_type": "markdown",
   "id": "7eb1c789",
   "metadata": {},
   "source": [
    "**신용카드 사기 거래 탐지**\n",
    "\n",
    "신용카드 사기 거래 탐지는 이진 분류 문제로, 주어진 거래가 정상인지 사기인지 예측\n",
    "\n",
    "LogisticRegression 알고리즘 이용\n",
    "\n",
    "Credit Card Fraud Detection  데이터 셋 사용\n",
    "\n",
    "https://www.kaggle.com/datasets/mlg-ulb/creditcardfraud\n",
    "\n",
    "구현 가이드\n",
    "\n",
    "- **데이터 로드**: 신용카드 거래 데이터셋을 로드\n",
    "- **특성과 레이블 분리**: 'Class' 열은 거래의 레이블(정상: 0, 사기: 1)을 나타내며, 이를 제외한 나머지 열은 특성으로 사용\n",
    "- **데이터 분할**: 데이터를 학습 세트와 테스트 세트로 분할하여 모델의 성능을 평가\n",
    "- **데이터 스케일링**: 특성 값의 범위를 표준화\n",
    "- **모델 학습**: 랜덤 포레스트 분류기를 사용하여 학습 세트에 대해 모델을 학습\n",
    "- **예측 및 평가**: 테스트 세트에 대한 예측을 수행하고, 정확도와 기타 평가 지표를 출력"
   ]
  }
 ],
 "metadata": {
  "kernelspec": {
   "display_name": ".venv",
   "language": "python",
   "name": "python3"
  },
  "language_info": {
   "name": "python",
   "version": "3.13.4"
  }
 },
 "nbformat": 4,
 "nbformat_minor": 5
}
